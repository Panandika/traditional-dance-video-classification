{
 "cells": [
  {
   "cell_type": "code",
   "execution_count": 1,
   "metadata": {},
   "outputs": [],
   "source": [
    "import os"
   ]
  },
  {
   "cell_type": "code",
   "execution_count": 2,
   "metadata": {},
   "outputs": [
    {
     "data": {
      "text/plain": [
       "['.DS_Store', 'test', 'val.csv', 'test.csv', 'train', 'train.csv', 'val']"
      ]
     },
     "execution_count": 2,
     "metadata": {},
     "output_type": "execute_result"
    }
   ],
   "source": [
    "# Create a list of all the files in the \"Download\" directory\n",
    "ROOT_DIR = '/Users/rudyhendrawan/miniforge3/datasets/Dasar-Gerakan-Tari-Bali-All-Women'\n",
    "files = os.listdir(ROOT_DIR)\n",
    "files"
   ]
  },
  {
   "cell_type": "code",
   "execution_count": 4,
   "metadata": {},
   "outputs": [
    {
     "name": "stdout",
     "output_type": "stream",
     "text": [
      "['Ngelung' 'Nyeregseg' 'Seledet' 'Tapak_Sirangpada' 'Ngeseh' 'Ngegol'\n",
      " 'Agem_Kanan' 'Ngelo' 'Ngumbang' 'Nyalud' 'Ulap_Ulap' 'Agem_Kiri' 'Ngeed']\n"
     ]
    }
   ],
   "source": [
    "import pandas as pd\n",
    "# classname = ['Nyeregseg', 'Seledet', 'Ngegol', 'Agem_Kanan', 'Nyalud', 'Ulap_Ulap', 'Agem_Kiri']\n",
    "df_train = pd.read_csv(os.path.join(ROOT_DIR, 'train.csv'))\n",
    "df_test = pd.read_csv(os.path.join(ROOT_DIR, 'test.csv'))\n",
    "df_val = pd.read_csv(os.path.join(ROOT_DIR, 'val.csv'))\n",
    "classname = df_train['classname'].unique()\n",
    "print(classname)"
   ]
  },
  {
   "cell_type": "code",
   "execution_count": null,
   "metadata": {},
   "outputs": [],
   "source": [
    "class_part_1 = "
   ]
  },
  {
   "cell_type": "code",
   "execution_count": 8,
   "metadata": {},
   "outputs": [
    {
     "data": {
      "text/plain": [
       "Nyeregseg     77\n",
       "Seledet       77\n",
       "Ngegol        77\n",
       "Agem_Kanan    77\n",
       "Nyalud        77\n",
       "Ulap_Ulap     77\n",
       "Agem_Kiri     77\n",
       "Name: classname, dtype: int64"
      ]
     },
     "execution_count": 8,
     "metadata": {},
     "output_type": "execute_result"
    }
   ],
   "source": [
    "df_train['classname'].value_counts()"
   ]
  },
  {
   "cell_type": "code",
   "execution_count": 6,
   "metadata": {},
   "outputs": [
    {
     "name": "stdout",
     "output_type": "stream",
     "text": [
      "(67, 3)\n",
      "(17, 3)\n"
     ]
    }
   ],
   "source": [
    "# Create a fraction of the list of files\n",
    "small_train = df_train.sample(frac=0.1)\n",
    "print(small_train.shape)\n",
    "small_test = df_test.sample(frac=0.1)\n",
    "print(small_test.shape)"
   ]
  },
  {
   "cell_type": "code",
   "execution_count": 7,
   "metadata": {},
   "outputs": [],
   "source": [
    "# Import to csv\n",
    "small_train.to_csv('small_train.csv', index=False)\n",
    "small_test.to_csv('small_test.csv', index=False)"
   ]
  },
  {
   "cell_type": "code",
   "execution_count": 8,
   "metadata": {},
   "outputs": [
    {
     "data": {
      "text/html": [
       "<div>\n",
       "<style scoped>\n",
       "    .dataframe tbody tr th:only-of-type {\n",
       "        vertical-align: middle;\n",
       "    }\n",
       "\n",
       "    .dataframe tbody tr th {\n",
       "        vertical-align: top;\n",
       "    }\n",
       "\n",
       "    .dataframe thead th {\n",
       "        text-align: right;\n",
       "    }\n",
       "</style>\n",
       "<table border=\"1\" class=\"dataframe\">\n",
       "  <thead>\n",
       "    <tr style=\"text-align: right;\">\n",
       "      <th></th>\n",
       "      <th>filename</th>\n",
       "      <th>classname</th>\n",
       "      <th>path</th>\n",
       "    </tr>\n",
       "  </thead>\n",
       "  <tbody>\n",
       "    <tr>\n",
       "      <th>604</th>\n",
       "      <td>Ngegol_72.mp4</td>\n",
       "      <td>Ngegol</td>\n",
       "      <td>Ngegol/Ngegol_72.mp4</td>\n",
       "    </tr>\n",
       "    <tr>\n",
       "      <th>276</th>\n",
       "      <td>Ulap_Ulap_6.mp4</td>\n",
       "      <td>Ulap_Ulap</td>\n",
       "      <td>Ulap_Ulap/Ulap_Ulap_6.mp4</td>\n",
       "    </tr>\n",
       "    <tr>\n",
       "      <th>141</th>\n",
       "      <td>Agem_Kiri_89.mp4</td>\n",
       "      <td>Agem_Kiri</td>\n",
       "      <td>Agem_Kiri/Agem_Kiri_89.mp4</td>\n",
       "    </tr>\n",
       "    <tr>\n",
       "      <th>560</th>\n",
       "      <td>Ulap_Ulap_63.mp4</td>\n",
       "      <td>Ulap_Ulap</td>\n",
       "      <td>Ulap_Ulap/Ulap_Ulap_63.mp4</td>\n",
       "    </tr>\n",
       "    <tr>\n",
       "      <th>635</th>\n",
       "      <td>Seledet_100.mp4</td>\n",
       "      <td>Seledet</td>\n",
       "      <td>Seledet/Seledet_100.mp4</td>\n",
       "    </tr>\n",
       "  </tbody>\n",
       "</table>\n",
       "</div>"
      ],
      "text/plain": [
       "             filename  classname                        path\n",
       "604     Ngegol_72.mp4     Ngegol        Ngegol/Ngegol_72.mp4\n",
       "276   Ulap_Ulap_6.mp4  Ulap_Ulap   Ulap_Ulap/Ulap_Ulap_6.mp4\n",
       "141  Agem_Kiri_89.mp4  Agem_Kiri  Agem_Kiri/Agem_Kiri_89.mp4\n",
       "560  Ulap_Ulap_63.mp4  Ulap_Ulap  Ulap_Ulap/Ulap_Ulap_63.mp4\n",
       "635   Seledet_100.mp4    Seledet     Seledet/Seledet_100.mp4"
      ]
     },
     "execution_count": 8,
     "metadata": {},
     "output_type": "execute_result"
    }
   ],
   "source": [
    "small_train.head()"
   ]
  },
  {
   "cell_type": "code",
   "execution_count": 9,
   "metadata": {},
   "outputs": [
    {
     "data": {
      "text/html": [
       "<div>\n",
       "<style scoped>\n",
       "    .dataframe tbody tr th:only-of-type {\n",
       "        vertical-align: middle;\n",
       "    }\n",
       "\n",
       "    .dataframe tbody tr th {\n",
       "        vertical-align: top;\n",
       "    }\n",
       "\n",
       "    .dataframe thead th {\n",
       "        text-align: right;\n",
       "    }\n",
       "</style>\n",
       "<table border=\"1\" class=\"dataframe\">\n",
       "  <thead>\n",
       "    <tr style=\"text-align: right;\">\n",
       "      <th></th>\n",
       "      <th>filename</th>\n",
       "      <th>classname</th>\n",
       "      <th>path</th>\n",
       "    </tr>\n",
       "  </thead>\n",
       "  <tbody>\n",
       "    <tr>\n",
       "      <th>16</th>\n",
       "      <td>Ngegol_63.mp4</td>\n",
       "      <td>Ngegol</td>\n",
       "      <td>Ngegol/Ngegol_63.mp4</td>\n",
       "    </tr>\n",
       "    <tr>\n",
       "      <th>12</th>\n",
       "      <td>Nyalud_95.mp4</td>\n",
       "      <td>Nyalud</td>\n",
       "      <td>Nyalud/Nyalud_95.mp4</td>\n",
       "    </tr>\n",
       "    <tr>\n",
       "      <th>78</th>\n",
       "      <td>Agem_Kanan_62.mp4</td>\n",
       "      <td>Agem_Kanan</td>\n",
       "      <td>Agem_Kanan/Agem_Kanan_62.mp4</td>\n",
       "    </tr>\n",
       "    <tr>\n",
       "      <th>48</th>\n",
       "      <td>Nyalud_13.mp4</td>\n",
       "      <td>Nyalud</td>\n",
       "      <td>Nyalud/Nyalud_13.mp4</td>\n",
       "    </tr>\n",
       "    <tr>\n",
       "      <th>34</th>\n",
       "      <td>Nyeregseg_22.mp4</td>\n",
       "      <td>Nyeregseg</td>\n",
       "      <td>Nyeregseg/Nyeregseg_22.mp4</td>\n",
       "    </tr>\n",
       "  </tbody>\n",
       "</table>\n",
       "</div>"
      ],
      "text/plain": [
       "             filename   classname                          path\n",
       "16      Ngegol_63.mp4      Ngegol          Ngegol/Ngegol_63.mp4\n",
       "12      Nyalud_95.mp4      Nyalud          Nyalud/Nyalud_95.mp4\n",
       "78  Agem_Kanan_62.mp4  Agem_Kanan  Agem_Kanan/Agem_Kanan_62.mp4\n",
       "48      Nyalud_13.mp4      Nyalud          Nyalud/Nyalud_13.mp4\n",
       "34   Nyeregseg_22.mp4   Nyeregseg    Nyeregseg/Nyeregseg_22.mp4"
      ]
     },
     "execution_count": 9,
     "metadata": {},
     "output_type": "execute_result"
    }
   ],
   "source": [
    "small_test.head()"
   ]
  },
  {
   "cell_type": "code",
   "execution_count": 12,
   "metadata": {},
   "outputs": [
    {
     "name": "stdout",
     "output_type": "stream",
     "text": [
      "Agem_Kiri     14\n",
      "Ulap_Ulap     12\n",
      "Seledet       12\n",
      "Ngegol        11\n",
      "Nyalud         9\n",
      "Nyeregseg      5\n",
      "Agem_Kanan     4\n",
      "Name: classname, dtype: int64\n",
      "Nyalud        4\n",
      "Agem_Kiri     4\n",
      "Ulap_Ulap     3\n",
      "Ngegol        2\n",
      "Seledet       2\n",
      "Agem_Kanan    1\n",
      "Nyeregseg     1\n",
      "Name: classname, dtype: int64\n"
     ]
    }
   ],
   "source": [
    "print(small_train['classname'].value_counts())\n",
    "print(small_test['classname'].value_counts())"
   ]
  },
  {
   "cell_type": "code",
   "execution_count": 13,
   "metadata": {},
   "outputs": [],
   "source": [
    "# Create directory for the small dataset\n",
    "small_train_dir = os.path.join(ROOT_DIR, 'small_train')\n",
    "small_test_dir = os.path.join(ROOT_DIR, 'small_test')\n",
    "for c in classname:\n",
    "    os.makedirs(os.path.join(small_train_dir, c))\n",
    "    os.makedirs(os.path.join(small_test_dir, c))"
   ]
  },
  {
   "cell_type": "code",
   "execution_count": 14,
   "metadata": {},
   "outputs": [],
   "source": [
    "# Copy the files to the small dataset\n",
    "\n",
    "import shutil\n",
    "\n",
    "ori_train_dir = os.path.join(ROOT_DIR, 'train')\n",
    "ori_test_dir = os.path.join(ROOT_DIR, 'test')\n",
    "\n",
    "for row in small_train['path']:\n",
    "    src = os.path.join(ori_train_dir, row)\n",
    "    dst = os.path.join(small_train_dir, row)\n",
    "    copy_file = shutil.copy(src, dst)\n",
    "\n",
    "for row in small_test['path']:\n",
    "    src = os.path.join(ori_test_dir, row)\n",
    "    dst = os.path.join(small_test_dir, row)\n",
    "    copy_file = shutil.copy(src, dst)"
   ]
  },
  {
   "cell_type": "code",
   "execution_count": null,
   "metadata": {},
   "outputs": [],
   "source": []
  }
 ],
 "metadata": {
  "kernelspec": {
   "display_name": "Python 3.9.13 ('tensorflow')",
   "language": "python",
   "name": "python3"
  },
  "language_info": {
   "codemirror_mode": {
    "name": "ipython",
    "version": 3
   },
   "file_extension": ".py",
   "mimetype": "text/x-python",
   "name": "python",
   "nbconvert_exporter": "python",
   "pygments_lexer": "ipython3",
   "version": "3.9.13"
  },
  "orig_nbformat": 4,
  "vscode": {
   "interpreter": {
    "hash": "b2527e6f53b689e62fd6e328abffb3256ca5fab4c90ca1af42ac0843cf73f556"
   }
  }
 },
 "nbformat": 4,
 "nbformat_minor": 2
}
