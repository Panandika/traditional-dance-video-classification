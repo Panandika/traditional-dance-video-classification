{
 "cells": [
  {
   "cell_type": "code",
   "execution_count": null,
   "metadata": {
    "gradient": {
     "editing": false
    },
    "id": "-wH1ObtaSa37"
   },
   "outputs": [],
   "source": [
    "import os\n",
    "import glob\n",
    "from tensorflow.keras.preprocessing.image import ImageDataGenerator\n",
    "from keras_video import VideoFrameGenerator\n",
    "import numpy as np"
   ]
  },
  {
   "cell_type": "code",
   "execution_count": null,
   "metadata": {
    "colab": {
     "base_uri": "https://localhost:8080/"
    },
    "gradient": {
     "editing": false
    },
    "id": "6ZeDBPMPGGKa",
    "outputId": "1e13407f-7ea2-4cc0-ddcb-0092cd9e9df5"
   },
   "outputs": [
    {
     "name": "stdout",
     "output_type": "stream",
     "text": [
      "class Agem_Kanan, validation count: 24, test count: 19, train count: 77\n",
      "class Agem_Kiri, validation count: 24, test count: 19, train count: 77\n",
      "class Ngegol, validation count: 24, test count: 19, train count: 77\n",
      "class Nyalud, validation count: 24, test count: 19, train count: 77\n",
      "class Nyeregseg, validation count: 24, test count: 19, train count: 77\n",
      "class Seledet, validation count: 24, test count: 19, train count: 77\n",
      "class Ulap_Ulap, validation count: 24, test count: 19, train count: 77\n",
      "Total data: 7 classes for 539 files for train\n"
     ]
    }
   ],
   "source": [
    "# use sub directories names as classes\n",
    "classes = [i.split(os.path.sep)[1] for i in glob.glob('Dataset/*')]\n",
    "classes.sort()\n",
    "\n",
    "# Some global params\n",
    "SIZE = (128, 128)    # Image size\n",
    "CHANNELS = 3         # Color channel\n",
    "NBFRAME = 30         # Frames per video\n",
    "BS = 8               # Batch size\n",
    "\n",
    "# Pattern to get videos and classes\n",
    "glob_pattern = 'Dataset/{classname}/*.mp4'\n",
    "\n",
    "# For data augmentation\n",
    "data_aug = ImageDataGenerator(\n",
    "    zoom_range=.1,\n",
    "    rotation_range=8,\n",
    "    width_shift_range=.2,\n",
    "    height_shift_range=.2)\n",
    "\n",
    "# Create video frame generator\n",
    "train = VideoFrameGenerator(\n",
    "    classes=classes, \n",
    "    glob_pattern=glob_pattern,\n",
    "    nb_frames=NBFRAME,\n",
    "    split_val=.20,\n",
    "    split_test=.20, \n",
    "    shuffle=True,\n",
    "    batch_size=BS,\n",
    "    target_shape=SIZE,\n",
    "    nb_channel=CHANNELS,\n",
    "    transformation=None, # Data Augmentation\n",
    "    use_frame_cache=False)"
   ]
  },
  {
   "cell_type": "code",
   "execution_count": null,
   "metadata": {
    "colab": {
     "base_uri": "https://localhost:8080/"
    },
    "gradient": {
     "editing": false
    },
    "id": "gtsGjKY0GaCh",
    "outputId": "e7847831-e5e5-4f1b-bea4-86427a3a95e0"
   },
   "outputs": [
    {
     "name": "stdout",
     "output_type": "stream",
     "text": [
      "Total data: 7 classes for 168 files for validation\n",
      "Total data: 7 classes for 133 files for test\n"
     ]
    }
   ],
   "source": [
    "valid = train.get_validation_generator()\n",
    "test = train.get_test_generator()"
   ]
  },
  {
   "cell_type": "code",
   "execution_count": null,
   "metadata": {
    "gradient": {
     "editing": false
    },
    "id": "WnIA128SH7SV"
   },
   "outputs": [],
   "source": [
    "from tensorflow.keras.layers import Conv2D, BatchNormalization, MaxPooling2D, GlobalAveragePooling2D, LSTM, Dense, Dropout, TimeDistributed\n",
    "from tensorflow.keras.models import Sequential\n",
    "from tensorflow.keras.callbacks import EarlyStopping"
   ]
  },
  {
   "cell_type": "code",
   "execution_count": null,
   "metadata": {
    "gradient": {
     "editing": false
    },
    "id": "KSJCkgRuZr26"
   },
   "outputs": [],
   "source": [
    "input_shape = (NBFRAME,) + SIZE + (CHANNELS,)"
   ]
  },
  {
   "cell_type": "code",
   "execution_count": null,
   "metadata": {
    "colab": {
     "base_uri": "https://localhost:8080/"
    },
    "gradient": {
     "editing": false
    },
    "id": "-V2y7tc5ZGKZ",
    "outputId": "9de546b6-f347-432a-db17-46c91cd7f437",
    "scrolled": false
   },
   "outputs": [
    {
     "name": "stdout",
     "output_type": "stream",
     "text": [
      "Model: \"sequential\"\n",
      "_________________________________________________________________\n",
      "Layer (type)                 Output Shape              Param #   \n",
      "=================================================================\n",
      "time_distributed (TimeDistri (None, 30, 128, 128, 64)  1792      \n",
      "_________________________________________________________________\n",
      "time_distributed_1 (TimeDist (None, 30, 128, 128, 64)  256       \n",
      "_________________________________________________________________\n",
      "time_distributed_2 (TimeDist (None, 30, 64, 64, 64)    0         \n",
      "_________________________________________________________________\n",
      "time_distributed_3 (TimeDist (None, 30, 64, 64, 128)   73856     \n",
      "_________________________________________________________________\n",
      "time_distributed_4 (TimeDist (None, 30, 64, 64, 128)   512       \n",
      "_________________________________________________________________\n",
      "time_distributed_5 (TimeDist (None, 30, 32, 32, 128)   0         \n",
      "_________________________________________________________________\n",
      "time_distributed_6 (TimeDist (None, 30, 32, 32, 256)   295168    \n",
      "_________________________________________________________________\n",
      "time_distributed_7 (TimeDist (None, 30, 32, 32, 256)   1024      \n",
      "_________________________________________________________________\n",
      "time_distributed_8 (TimeDist (None, 30, 16, 16, 256)   0         \n",
      "_________________________________________________________________\n",
      "time_distributed_9 (TimeDist (None, 30, 16, 16, 512)   1180160   \n",
      "_________________________________________________________________\n",
      "time_distributed_10 (TimeDis (None, 30, 16, 16, 512)   2048      \n",
      "_________________________________________________________________\n",
      "time_distributed_11 (TimeDis (None, 30, 8, 8, 512)     0         \n",
      "_________________________________________________________________\n",
      "time_distributed_12 (TimeDis (None, 30, 512)           0         \n",
      "_________________________________________________________________\n",
      "lstm (LSTM)                  (None, 256)               787456    \n",
      "_________________________________________________________________\n",
      "dense (Dense)                (None, 1024)              263168    \n",
      "_________________________________________________________________\n",
      "dropout (Dropout)            (None, 1024)              0         \n",
      "_________________________________________________________________\n",
      "dense_1 (Dense)              (None, 7)                 7175      \n",
      "=================================================================\n",
      "Total params: 2,612,615\n",
      "Trainable params: 2,610,695\n",
      "Non-trainable params: 1,920\n",
      "_________________________________________________________________\n"
     ]
    }
   ],
   "source": [
    "# Define CNN model\n",
    "model = Sequential()\n",
    "\n",
    "model.add(TimeDistributed(Conv2D(64, (3,3), input_shape=input_shape[1:], padding='same', activation='relu'), input_shape=input_shape))\n",
    "model.add(TimeDistributed(BatchNormalization()))\n",
    "model.add(TimeDistributed(MaxPooling2D()))\n",
    "\n",
    "model.add(TimeDistributed(Conv2D(128, (3,3), padding='same', activation='relu')))\n",
    "model.add(TimeDistributed(BatchNormalization()))\n",
    "model.add(TimeDistributed(MaxPooling2D()))\n",
    "\n",
    "model.add(TimeDistributed(Conv2D(256, (3,3), padding='same', activation='relu')))\n",
    "model.add(TimeDistributed(BatchNormalization()))\n",
    "model.add(TimeDistributed(MaxPooling2D()))\n",
    "\n",
    "model.add(TimeDistributed(Conv2D(512, (3,3), padding='same', activation='relu')))\n",
    "model.add(TimeDistributed(BatchNormalization()))\n",
    "model.add(TimeDistributed(MaxPooling2D()))\n",
    "\n",
    "model.add(TimeDistributed(GlobalAveragePooling2D()))\n",
    "\n",
    "# Define LSTM model\n",
    "model.add(LSTM(256))\n",
    "\n",
    "# Dense layer\n",
    "model.add(Dense(1024, activation='relu'))\n",
    "model.add(Dropout(.2))\n",
    "model.add(Dense(int(len(classes)), activation='softmax'))\n",
    "\n",
    "model.summary()"
   ]
  },
  {
   "cell_type": "code",
   "execution_count": null,
   "metadata": {
    "gradient": {
     "editing": false
    },
    "id": "vepOE_YtJM0n"
   },
   "outputs": [],
   "source": [
    "epochs = 100\n",
    "\n",
    "earlystop = EarlyStopping(monitor='loss', patience=10)\n",
    "\n",
    "callbacks = [earlystop]\n",
    "\n",
    "model.compile(optimizer='adam',\n",
    "              loss='categorical_crossentropy',\n",
    "              metrics=['acc'])"
   ]
  },
  {
   "cell_type": "code",
   "execution_count": null,
   "metadata": {
    "colab": {
     "base_uri": "https://localhost:8080/"
    },
    "gradient": {
     "editing": false
    },
    "id": "dIdB2HptKLP4",
    "outputId": "af61424e-b514-47c3-86f1-2030985f333c",
    "scrolled": true
   },
   "outputs": [
    {
     "name": "stdout",
     "output_type": "stream",
     "text": [
      "Epoch 1/100\n",
      "67/67 [==============================] - 91s 1s/step - loss: 1.9132 - acc: 0.2379 - val_loss: 2.2377 - val_acc: 0.1369\n",
      "Epoch 2/100\n",
      "67/67 [==============================] - 69s 1s/step - loss: 1.6004 - acc: 0.2862 - val_loss: 2.1917 - val_acc: 0.1429\n",
      "Epoch 3/100\n",
      "67/67 [==============================] - 70s 1s/step - loss: 1.5889 - acc: 0.2920 - val_loss: 2.2405 - val_acc: 0.1429\n",
      "Epoch 4/100\n",
      "67/67 [==============================] - 70s 1s/step - loss: 1.5833 - acc: 0.3034 - val_loss: 2.2752 - val_acc: 0.1429\n",
      "Epoch 5/100\n",
      "67/67 [==============================] - 70s 1s/step - loss: 1.5810 - acc: 0.3086 - val_loss: 2.1446 - val_acc: 0.1786\n",
      "Epoch 6/100\n",
      "67/67 [==============================] - 69s 1s/step - loss: 1.6238 - acc: 0.2278 - val_loss: 2.1158 - val_acc: 0.1667\n",
      "Epoch 7/100\n",
      "67/67 [==============================] - 69s 1s/step - loss: 1.5613 - acc: 0.2636 - val_loss: 2.0037 - val_acc: 0.1905\n",
      "Epoch 8/100\n",
      "67/67 [==============================] - 70s 1s/step - loss: 1.5327 - acc: 0.2844 - val_loss: 1.7342 - val_acc: 0.2321\n",
      "Epoch 9/100\n",
      "67/67 [==============================] - 69s 1s/step - loss: 1.5407 - acc: 0.2973 - val_loss: 1.5563 - val_acc: 0.2560\n",
      "Epoch 10/100\n",
      "67/67 [==============================] - 69s 1s/step - loss: 1.4977 - acc: 0.3388 - val_loss: 1.5489 - val_acc: 0.3036\n",
      "Epoch 11/100\n",
      "67/67 [==============================] - 70s 1s/step - loss: 1.4907 - acc: 0.3379 - val_loss: 1.9863 - val_acc: 0.2976\n",
      "Epoch 12/100\n",
      "67/67 [==============================] - 69s 1s/step - loss: 1.5847 - acc: 0.2895 - val_loss: 5.6517 - val_acc: 0.1607\n",
      "Epoch 13/100\n",
      "67/67 [==============================] - 69s 1s/step - loss: 1.5660 - acc: 0.2809 - val_loss: 1.9389 - val_acc: 0.3155\n",
      "Epoch 14/100\n",
      "67/67 [==============================] - 69s 1s/step - loss: 1.5384 - acc: 0.3237 - val_loss: 4.1021 - val_acc: 0.1845\n",
      "Epoch 15/100\n",
      "67/67 [==============================] - 69s 1s/step - loss: 1.5665 - acc: 0.3088 - val_loss: 1.5561 - val_acc: 0.2798\n",
      "Epoch 16/100\n",
      "67/67 [==============================] - 69s 1s/step - loss: 1.4994 - acc: 0.3410 - val_loss: 3.0061 - val_acc: 0.2857\n",
      "Epoch 17/100\n",
      "67/67 [==============================] - 70s 1s/step - loss: 1.5204 - acc: 0.3238 - val_loss: 1.6015 - val_acc: 0.2917\n",
      "Epoch 18/100\n",
      "67/67 [==============================] - 69s 1s/step - loss: 1.5363 - acc: 0.3161 - val_loss: 1.5448 - val_acc: 0.2619\n",
      "Epoch 19/100\n",
      "67/67 [==============================] - 69s 1s/step - loss: 1.5011 - acc: 0.3053 - val_loss: 1.5674 - val_acc: 0.2738\n",
      "Epoch 20/100\n",
      "67/67 [==============================] - 69s 1s/step - loss: 1.5272 - acc: 0.3084 - val_loss: 1.5591 - val_acc: 0.2917\n",
      "Epoch 21/100\n",
      "67/67 [==============================] - 70s 1s/step - loss: 1.5092 - acc: 0.3089 - val_loss: 1.5770 - val_acc: 0.2619\n",
      "Epoch 22/100\n",
      "67/67 [==============================] - 69s 1s/step - loss: 1.4974 - acc: 0.2953 - val_loss: 1.5490 - val_acc: 0.3095\n",
      "Epoch 23/100\n",
      "67/67 [==============================] - 69s 1s/step - loss: 1.5173 - acc: 0.3036 - val_loss: 1.5846 - val_acc: 0.2798\n",
      "Epoch 24/100\n",
      "67/67 [==============================] - 70s 1s/step - loss: 1.5223 - acc: 0.3223 - val_loss: 2.8605 - val_acc: 0.1964\n",
      "Epoch 25/100\n",
      "67/67 [==============================] - 69s 1s/step - loss: 1.5217 - acc: 0.2837 - val_loss: 1.5595 - val_acc: 0.2619\n",
      "Epoch 26/100\n",
      "67/67 [==============================] - 69s 1s/step - loss: 1.4753 - acc: 0.3495 - val_loss: 1.5487 - val_acc: 0.2798\n",
      "Epoch 27/100\n",
      "67/67 [==============================] - 69s 1s/step - loss: 1.5319 - acc: 0.3023 - val_loss: 1.5372 - val_acc: 0.2738\n",
      "Epoch 28/100\n",
      "67/67 [==============================] - 69s 1s/step - loss: 1.4990 - acc: 0.3154 - val_loss: 1.5604 - val_acc: 0.3036\n",
      "Epoch 29/100\n",
      "67/67 [==============================] - 69s 1s/step - loss: 1.4314 - acc: 0.3696 - val_loss: 1.9904 - val_acc: 0.2440\n",
      "Epoch 30/100\n",
      "67/67 [==============================] - 69s 1s/step - loss: 1.5016 - acc: 0.3363 - val_loss: 10.1314 - val_acc: 0.1429\n",
      "Epoch 31/100\n",
      "67/67 [==============================] - 69s 1s/step - loss: 1.5224 - acc: 0.3459 - val_loss: 2.8502 - val_acc: 0.2202\n",
      "Epoch 32/100\n",
      "67/67 [==============================] - 70s 1s/step - loss: 1.4280 - acc: 0.3741 - val_loss: 2.3974 - val_acc: 0.2440\n",
      "Epoch 33/100\n",
      "67/67 [==============================] - 69s 1s/step - loss: 1.4832 - acc: 0.3264 - val_loss: 1.6570 - val_acc: 0.2798\n",
      "Epoch 34/100\n",
      "67/67 [==============================] - 69s 1s/step - loss: 1.4080 - acc: 0.3498 - val_loss: 1.6533 - val_acc: 0.2917\n",
      "Epoch 35/100\n",
      "67/67 [==============================] - 69s 1s/step - loss: 1.4816 - acc: 0.3473 - val_loss: 1.5404 - val_acc: 0.3095\n",
      "Epoch 36/100\n",
      "67/67 [==============================] - 69s 1s/step - loss: 1.4057 - acc: 0.3953 - val_loss: 1.9306 - val_acc: 0.2202\n",
      "Epoch 37/100\n",
      "67/67 [==============================] - 69s 1s/step - loss: 1.4367 - acc: 0.3803 - val_loss: 1.7771 - val_acc: 0.2798\n",
      "Epoch 38/100\n",
      "67/67 [==============================] - 69s 1s/step - loss: 1.4094 - acc: 0.3449 - val_loss: 1.5559 - val_acc: 0.3571\n",
      "Epoch 39/100\n",
      "67/67 [==============================] - 69s 1s/step - loss: 1.3351 - acc: 0.4163 - val_loss: 1.6059 - val_acc: 0.2917\n",
      "Epoch 40/100\n",
      "67/67 [==============================] - 69s 1s/step - loss: 1.3021 - acc: 0.3997 - val_loss: 1.6206 - val_acc: 0.3214\n",
      "Epoch 41/100\n",
      "67/67 [==============================] - 70s 1s/step - loss: 1.2483 - acc: 0.4430 - val_loss: 1.8810 - val_acc: 0.3452\n",
      "Epoch 42/100\n",
      "67/67 [==============================] - 69s 1s/step - loss: 1.3054 - acc: 0.4263 - val_loss: 1.5783 - val_acc: 0.3631\n",
      "Epoch 43/100\n",
      "67/67 [==============================] - 69s 1s/step - loss: 1.2721 - acc: 0.4307 - val_loss: 2.0690 - val_acc: 0.2857\n",
      "Epoch 44/100\n",
      "67/67 [==============================] - 70s 1s/step - loss: 1.2270 - acc: 0.4296 - val_loss: 1.6260 - val_acc: 0.3393\n",
      "Epoch 45/100\n",
      "67/67 [==============================] - 70s 1s/step - loss: 1.1889 - acc: 0.4813 - val_loss: 1.4349 - val_acc: 0.4048\n",
      "Epoch 46/100\n",
      "67/67 [==============================] - 69s 1s/step - loss: 1.0470 - acc: 0.5359 - val_loss: 2.7331 - val_acc: 0.2619\n",
      "Epoch 47/100\n",
      "67/67 [==============================] - 69s 1s/step - loss: 1.1389 - acc: 0.5132 - val_loss: 3.0941 - val_acc: 0.2857\n",
      "Epoch 48/100\n",
      "67/67 [==============================] - 69s 1s/step - loss: 1.0453 - acc: 0.5194 - val_loss: 1.8031 - val_acc: 0.3393\n",
      "Epoch 49/100\n",
      "67/67 [==============================] - 70s 1s/step - loss: 1.0039 - acc: 0.5808 - val_loss: 1.7626 - val_acc: 0.3452\n",
      "Epoch 50/100\n",
      "67/67 [==============================] - 69s 1s/step - loss: 0.9048 - acc: 0.5975 - val_loss: 2.4201 - val_acc: 0.3869\n",
      "Epoch 51/100\n",
      "67/67 [==============================] - 69s 1s/step - loss: 0.9353 - acc: 0.6068 - val_loss: 1.3952 - val_acc: 0.3988\n",
      "Epoch 52/100\n",
      "67/67 [==============================] - 69s 1s/step - loss: 0.8076 - acc: 0.6656 - val_loss: 1.3665 - val_acc: 0.4286\n",
      "Epoch 53/100\n",
      "67/67 [==============================] - 69s 1s/step - loss: 0.7312 - acc: 0.6924 - val_loss: 1.7033 - val_acc: 0.3988\n",
      "Epoch 54/100\n",
      "67/67 [==============================] - 69s 1s/step - loss: 0.7032 - acc: 0.7171 - val_loss: 1.9940 - val_acc: 0.2917\n",
      "Epoch 55/100\n",
      "67/67 [==============================] - 69s 1s/step - loss: 0.4887 - acc: 0.8084 - val_loss: 1.4977 - val_acc: 0.5298\n",
      "Epoch 56/100\n",
      "67/67 [==============================] - 69s 1s/step - loss: 0.5230 - acc: 0.7871 - val_loss: 1.2105 - val_acc: 0.5833\n",
      "Epoch 57/100\n",
      "67/67 [==============================] - 69s 1s/step - loss: 0.4146 - acc: 0.8380 - val_loss: 1.7602 - val_acc: 0.5119\n",
      "Epoch 58/100\n",
      "67/67 [==============================] - 69s 1s/step - loss: 0.3398 - acc: 0.8604 - val_loss: 1.6001 - val_acc: 0.4940\n",
      "Epoch 59/100\n",
      "67/67 [==============================] - 70s 1s/step - loss: 0.2721 - acc: 0.9011 - val_loss: 2.1989 - val_acc: 0.4464\n",
      "Epoch 60/100\n",
      "67/67 [==============================] - 69s 1s/step - loss: 0.2919 - acc: 0.8963 - val_loss: 2.3805 - val_acc: 0.4405\n",
      "Epoch 61/100\n",
      "67/67 [==============================] - 70s 1s/step - loss: 0.2319 - acc: 0.9185 - val_loss: 4.6495 - val_acc: 0.3571\n",
      "Epoch 62/100\n",
      "67/67 [==============================] - 69s 1s/step - loss: 0.2224 - acc: 0.9310 - val_loss: 1.3885 - val_acc: 0.6667\n",
      "Epoch 63/100\n",
      "67/67 [==============================] - 69s 1s/step - loss: 0.2132 - acc: 0.9283 - val_loss: 0.9500 - val_acc: 0.7738\n",
      "Epoch 64/100\n",
      "67/67 [==============================] - 69s 1s/step - loss: 0.1180 - acc: 0.9652 - val_loss: 2.0190 - val_acc: 0.5060\n",
      "Epoch 65/100\n",
      "67/67 [==============================] - 69s 1s/step - loss: 0.1147 - acc: 0.9508 - val_loss: 1.9490 - val_acc: 0.5476\n",
      "Epoch 66/100\n",
      "67/67 [==============================] - 69s 1s/step - loss: 0.2112 - acc: 0.9333 - val_loss: 1.2664 - val_acc: 0.6429\n",
      "Epoch 67/100\n",
      "67/67 [==============================] - 69s 1s/step - loss: 0.1701 - acc: 0.9405 - val_loss: 3.9823 - val_acc: 0.3869\n",
      "Epoch 68/100\n",
      "67/67 [==============================] - 69s 1s/step - loss: 0.1764 - acc: 0.9457 - val_loss: 1.2487 - val_acc: 0.6429\n",
      "Epoch 69/100\n",
      "67/67 [==============================] - 69s 1s/step - loss: 0.0740 - acc: 0.9838 - val_loss: 1.0909 - val_acc: 0.7202\n",
      "Epoch 70/100\n",
      "67/67 [==============================] - 69s 1s/step - loss: 0.0348 - acc: 0.9939 - val_loss: 1.2307 - val_acc: 0.7024\n",
      "Epoch 71/100\n",
      "67/67 [==============================] - 69s 1s/step - loss: 0.0503 - acc: 0.9794 - val_loss: 1.3328 - val_acc: 0.6786\n",
      "Epoch 72/100\n",
      "67/67 [==============================] - 69s 1s/step - loss: 0.0307 - acc: 0.9881 - val_loss: 1.8802 - val_acc: 0.5833\n",
      "Epoch 73/100\n",
      "67/67 [==============================] - 69s 1s/step - loss: 0.0511 - acc: 0.9949 - val_loss: 1.2056 - val_acc: 0.7024\n",
      "Epoch 74/100\n",
      "67/67 [==============================] - 69s 1s/step - loss: 0.0909 - acc: 0.9614 - val_loss: 2.4564 - val_acc: 0.5060\n",
      "Epoch 75/100\n",
      "67/67 [==============================] - 69s 1s/step - loss: 0.1444 - acc: 0.9510 - val_loss: 1.6584 - val_acc: 0.6250\n",
      "Epoch 76/100\n",
      "67/67 [==============================] - 69s 1s/step - loss: 0.1766 - acc: 0.9442 - val_loss: 1.2868 - val_acc: 0.6786\n",
      "Epoch 77/100\n",
      "67/67 [==============================] - 69s 1s/step - loss: 0.0885 - acc: 0.9694 - val_loss: 1.6384 - val_acc: 0.6012\n",
      "Epoch 78/100\n",
      "67/67 [==============================] - 69s 1s/step - loss: 0.0746 - acc: 0.9724 - val_loss: 2.3834 - val_acc: 0.5774\n",
      "Epoch 79/100\n",
      "67/67 [==============================] - 69s 1s/step - loss: 0.1004 - acc: 0.9532 - val_loss: 1.3232 - val_acc: 0.6905\n",
      "Epoch 80/100\n",
      "67/67 [==============================] - 69s 1s/step - loss: 0.0328 - acc: 0.9901 - val_loss: 1.6449 - val_acc: 0.6250\n",
      "Epoch 81/100\n",
      "67/67 [==============================] - 69s 1s/step - loss: 0.0350 - acc: 0.9893 - val_loss: 1.5040 - val_acc: 0.6786\n",
      "Epoch 82/100\n",
      "67/67 [==============================] - 69s 1s/step - loss: 0.0818 - acc: 0.9760 - val_loss: 1.3928 - val_acc: 0.6548\n"
     ]
    }
   ],
   "source": [
    "history = model.fit(train,\n",
    "                    validation_data=valid,\n",
    "                    epochs=epochs,\n",
    "                    callbacks=callbacks)"
   ]
  },
  {
   "cell_type": "code",
   "execution_count": null,
   "metadata": {
    "colab": {
     "base_uri": "https://localhost:8080/"
    },
    "gradient": {
     "editing": false
    },
    "id": "wfPQN-30gTGM",
    "outputId": "c1f73c40-a7e4-4854-b1a4-1fd8b3e42d55"
   },
   "outputs": [],
   "source": [
    "model.save(f'Model/tari/cnn-lstm-82e-8bs-20v20t.h5')"
   ]
  },
  {
   "cell_type": "code",
   "execution_count": null,
   "metadata": {
    "gradient": {
     "editing": false
    },
    "id": "LlnL4bHWdO6h"
   },
   "outputs": [],
   "source": [
    "import matplotlib.pyplot as plt\n",
    "%matplotlib inline"
   ]
  },
  {
   "cell_type": "code",
   "execution_count": null,
   "metadata": {
    "colab": {
     "base_uri": "https://localhost:8080/",
     "height": 295
    },
    "gradient": {
     "editing": false
    },
    "id": "rl4n-balgAWy",
    "outputId": "87379cd0-d3a2-4316-f781-897f32f79940"
   },
   "outputs": [
    {
     "data": {
      "image/png": "[encoded data removed]",
      "text/plain": [
       "<Figure size 432x288 with 1 Axes>"
      ]
     },
     "metadata": {
      "needs_background": "light"
     },
     "output_type": "display_data"
    }
   ],
   "source": [
    "# Summarize history for accuracy\n",
    "plt.plot(history.history['acc'])\n",
    "plt.plot(history.history['val_acc'])\n",
    "plt.title('Model accuracy')\n",
    "plt.ylabel('accuracy')\n",
    "plt.xlabel('epoch')\n",
    "plt.legend(['train', 'test'], loc='upper left')\n",
    "plt.show()"
   ]
  },
  {
   "cell_type": "code",
   "execution_count": null,
   "metadata": {
    "colab": {
     "base_uri": "https://localhost:8080/",
     "height": 295
    },
    "gradient": {
     "editing": false
    },
    "id": "Ycg3_x_NgFPi",
    "outputId": "e14f030c-4b93-47b0-a20a-550bb7e45791"
   },
   "outputs": [
    {
     "data": {
      "image/png": "[encoded data removed]",
      "text/plain": [
       "<Figure size 432x288 with 1 Axes>"
      ]
     },
     "metadata": {
      "needs_background": "light"
     },
     "output_type": "display_data"
    }
   ],
   "source": [
    "# Summarize history for loss\n",
    "plt.plot(history.history['loss'])\n",
    "plt.plot(history.history['val_loss'])\n",
    "plt.title('Model loss')\n",
    "plt.ylabel('loss')\n",
    "plt.xlabel('epoch')\n",
    "plt.legend(['train', 'test'], loc='upper left')\n",
    "plt.show()"
   ]
  },
  {
   "cell_type": "code",
   "execution_count": null,
   "metadata": {
    "colab": {
     "base_uri": "https://localhost:8080/"
    },
    "gradient": {
     "editing": false
    },
    "id": "LMUhtx2lvRsc",
    "outputId": "fdc7298f-b5d9-4533-9b69-2d3e62866a25"
   },
   "outputs": [
    {
     "name": "stdout",
     "output_type": "stream",
     "text": [
      "16/16 [==============================] - 13s 813ms/step - loss: 1.6478 - acc: 0.6719\n"
     ]
    },
    {
     "data": {
      "text/plain": [
       "[1.6477751731872559, 0.671875]"
      ]
     },
     "execution_count": 18,
     "metadata": {},
     "output_type": "execute_result"
    }
   ],
   "source": [
    "model.evaluate(test)"
   ]
  },
  {
   "cell_type": "code",
   "execution_count": null,
   "metadata": {
    "gradient": {
     "editing": false
    },
    "id": "cG5MaD7Uo5-g"
   },
   "outputs": [],
   "source": [
    "y_test = []\n",
    "y_predict = []\n",
    "for step in range(test.files_count//BS):\n",
    "    X, y = test.next()\n",
    "    prediction = model.predict(X)\n",
    "    y_test.extend(y)\n",
    "    y_predict.extend(prediction)"
   ]
  },
  {
   "cell_type": "code",
   "execution_count": null,
   "metadata": {
    "gradient": {}
   },
   "outputs": [],
   "source": [
    "y_true = np.argmax(y_test, axis=1)\n",
    "prediction = np.argmax(y_predict, axis=1)"
   ]
  },
  {
   "cell_type": "code",
   "execution_count": null,
   "metadata": {
    "gradient": {}
   },
   "outputs": [
    {
     "data": {
      "text/plain": [
       "array([0, 1, 3, 3, 1, 1, 5, 1, 1, 4, 4, 2, 2, 2, 6, 1, 5, 0, 0, 2, 2, 0,\n",
       "       6, 5, 3, 3, 6, 3, 6, 0, 6, 6, 1, 3, 1, 5, 6, 1, 4, 0, 5, 3, 1, 3,\n",
       "       5, 6, 5, 0, 2, 3, 4, 4, 3, 2, 6, 3, 6, 4, 0, 1, 4, 5, 6, 5, 4, 5,\n",
       "       0, 0, 2, 3, 0, 5, 6, 5, 2, 3, 0, 5, 2, 2, 5, 3, 1, 1, 5, 5, 1, 4,\n",
       "       4, 0, 2, 4, 0, 2, 1, 0, 4, 4, 4, 2, 1, 2, 6, 6, 0, 4, 1, 0, 4, 3,\n",
       "       6, 2, 3, 4, 4, 1, 6, 5, 3, 2, 1, 4, 6, 0, 3, 3, 0, 2])"
      ]
     },
     "execution_count": 22,
     "metadata": {},
     "output_type": "execute_result"
    }
   ],
   "source": [
    "y_true"
   ]
  },
  {
   "cell_type": "code",
   "execution_count": null,
   "metadata": {
    "gradient": {}
   },
   "outputs": [
    {
     "data": {
      "text/plain": [
       "array([0, 4, 3, 3, 1, 0, 5, 2, 2, 0, 4, 3, 2, 4, 6, 0, 5, 0, 0, 3, 3, 0,\n",
       "       6, 5, 3, 6, 6, 3, 6, 0, 6, 6, 1, 3, 0, 5, 6, 0, 0, 0, 5, 6, 3, 3,\n",
       "       5, 6, 5, 4, 2, 3, 4, 0, 3, 2, 6, 6, 3, 4, 0, 1, 0, 5, 6, 5, 4, 5,\n",
       "       0, 0, 2, 3, 0, 5, 6, 5, 2, 3, 0, 5, 3, 3, 5, 6, 0, 1, 5, 5, 2, 4,\n",
       "       4, 4, 3, 4, 0, 2, 3, 0, 0, 4, 3, 2, 0, 2, 3, 6, 0, 4, 0, 0, 0, 3,\n",
       "       6, 3, 3, 4, 4, 0, 6, 5, 6, 2, 1, 0, 6, 4, 4, 3, 0, 3])"
      ]
     },
     "execution_count": 23,
     "metadata": {},
     "output_type": "execute_result"
    }
   ],
   "source": [
    "prediction"
   ]
  },
  {
   "cell_type": "code",
   "execution_count": null,
   "metadata": {
    "gradient": {}
   },
   "outputs": [],
   "source": [
    "from sklearn.metrics import accuracy_score, precision_score, recall_score, f1_score, confusion_matrix, classification_report, \\\n",
    "roc_curve, auc"
   ]
  },
  {
   "cell_type": "code",
   "execution_count": null,
   "metadata": {
    "gradient": {}
   },
   "outputs": [
    {
     "name": "stdout",
     "output_type": "stream",
     "text": [
      "              precision    recall  f1-score   support\n",
      "\n",
      "  Agem_Kanan       0.52      0.84      0.64        19\n",
      "   Agem_Kiri       1.00      0.26      0.42        19\n",
      "      Ngegol       0.75      0.50      0.60        18\n",
      "      Nyalud       0.50      0.68      0.58        19\n",
      "   Nyeregseg       0.65      0.58      0.61        19\n",
      "     Seledet       1.00      1.00      1.00        17\n",
      "   Ulap_Ulap       0.75      0.88      0.81        17\n",
      "\n",
      "    accuracy                           0.67       128\n",
      "   macro avg       0.74      0.68      0.67       128\n",
      "weighted avg       0.73      0.67      0.66       128\n",
      "\n"
     ]
    }
   ],
   "source": [
    "target_names = test.classes\n",
    "print(classification_report(y_true, prediction, target_names=target_names))"
   ]
  },
  {
   "cell_type": "code",
   "execution_count": null,
   "metadata": {
    "gradient": {}
   },
   "outputs": [
    {
     "data": {
      "text/plain": [
       "array([[16,  0,  0,  0,  3,  0,  0],\n",
       "       [ 8,  5,  3,  2,  1,  0,  0],\n",
       "       [ 0,  0,  9,  8,  1,  0,  0],\n",
       "       [ 0,  0,  0, 13,  1,  0,  5],\n",
       "       [ 7,  0,  0,  1, 11,  0,  0],\n",
       "       [ 0,  0,  0,  0,  0, 17,  0],\n",
       "       [ 0,  0,  0,  2,  0,  0, 15]])"
      ]
     },
     "execution_count": 49,
     "metadata": {},
     "output_type": "execute_result"
    }
   ],
   "source": [
    "matrix = confusion_matrix(y_true, prediction)\n",
    "matrix"
   ]
  },
  {
   "cell_type": "code",
   "execution_count": null,
   "metadata": {
    "gradient": {}
   },
   "outputs": [
    {
     "name": "stdout",
     "output_type": "stream",
     "text": [
      "Accuracy: 0.671875\n",
      "Precision: 0.7375982651124966\n",
      "Recall: 0.6786819991154357\n",
      "F1 score: 0.6651951951951952\n"
     ]
    }
   ],
   "source": [
    "# accuracy: (tp + tn) / (p + n)\n",
    "accuracy = accuracy_score(y_true, prediction)\n",
    "print(f'Accuracy: {accuracy}')\n",
    "# precision tp / (tp + fp)\n",
    "precision = precision_score(y_true, prediction, average='macro')\n",
    "print(f'Precision: {precision}')\n",
    "# recall: tp / (tp + fn)\n",
    "recall = recall_score(y_true, prediction, average='macro')\n",
    "print(f'Recall: {recall}')\n",
    "# f1: 2 tp / (2 tp + fp + fn)\n",
    "f1 = f1_score(y_true, prediction, average='macro')\n",
    "print(f'F1 score: {f1}')"
   ]
  },
  {
   "cell_type": "code",
   "execution_count": null,
   "metadata": {
    "gradient": {}
   },
   "outputs": [],
   "source": [
    "fpr, tpr, thresholds = roc_curve(y_true, prediction, pos_label=6)\n",
    "auc = auc(fpr, tpr)"
   ]
  },
  {
   "cell_type": "code",
   "execution_count": null,
   "metadata": {
    "gradient": {}
   },
   "outputs": [
    {
     "data": {
      "image/png": "[encoded data removed]",
      "text/plain": [
       "<Figure size 432x288 with 1 Axes>"
      ]
     },
     "metadata": {
      "needs_background": "light"
     },
     "output_type": "display_data"
    }
   ],
   "source": [
    "plt.plot(fpr, tpr, marker='.')\n",
    "plt.show()"
   ]
  },
  {
   "cell_type": "code",
   "execution_count": null,
   "metadata": {
    "gradient": {}
   },
   "outputs": [],
   "source": []
  }
 ],
 "metadata": {
  "accelerator": "GPU",
  "colab": {
   "collapsed_sections": [],
   "name": "tari-cnn-lstm.ipynb",
   "provenance": []
  },
  "kernelspec": {
   "display_name": "Python 3",
   "language": "python",
   "name": "python3"
  },
  "language_info": {
   "codemirror_mode": {
    "name": "ipython",
    "version": 3
   },
   "file_extension": ".py",
   "mimetype": "text/x-python",
   "name": "python",
   "nbconvert_exporter": "python",
   "pygments_lexer": "ipython3",
   "version": "3.6.9"
  }
 },
 "nbformat": 4,
 "nbformat_minor": 1
}
