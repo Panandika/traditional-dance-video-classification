{
  "cells": [
    {
      "cell_type": "markdown",
      "metadata": {
        "id": "view-in-github",
        "colab_type": "text"
      },
      "source": [
        "<a href=\"https://colab.research.google.com/github/rudyhendrawn/traditional-dance-video-classification/blob/main/i3d.ipynb\" target=\"_parent\"><img src=\"https://colab.research.google.com/assets/colab-badge.svg\" alt=\"Open In Colab\"/></a>"
      ]
    },
    {
      "cell_type": "code",
      "execution_count": null,
      "id": "9ee5fa18",
      "metadata": {
        "id": "9ee5fa18"
      },
      "outputs": [],
      "source": [
        "!rm -rfv sample_data"
      ]
    },
    {
      "cell_type": "markdown",
      "id": "8f8f11cd",
      "metadata": {
        "id": "8f8f11cd"
      },
      "source": [
        "### Mounting Repository\n",
        "\n",
        "Mount the repository to get all the data (directories and utilities files) ready to use."
      ]
    },
    {
      "cell_type": "code",
      "execution_count": 11,
      "id": "3eb99b6f",
      "metadata": {
        "id": "3eb99b6f",
        "colab": {
          "base_uri": "https://localhost:8080/"
        },
        "outputId": "c168a9dd-aa11-4217-f4d6-0b8b5949804e"
      },
      "outputs": [
        {
          "output_type": "stream",
          "name": "stdout",
          "text": [
            "Cloning into 'traditional-dance-video-classification'...\n",
            "remote: Enumerating objects: 187, done.\u001b[K\n",
            "remote: Counting objects: 100% (140/140), done.\u001b[K\n",
            "remote: Compressing objects: 100% (113/113), done.\u001b[K\n",
            "remote: Total 187 (delta 60), reused 66 (delta 16), pack-reused 47\u001b[K\n",
            "Receiving objects: 100% (187/187), 127.22 MiB | 31.70 MiB/s, done.\n",
            "Resolving deltas: 100% (73/73), done.\n",
            "mv: cannot move 'traditional-dance-video-classification/checkpoint' to './checkpoint': Directory not empty\n",
            "mv: cannot move 'traditional-dance-video-classification/dataset' to './dataset': Directory not empty\n",
            "mv: cannot move 'traditional-dance-video-classification/history' to './history': Directory not empty\n",
            "mv: cannot move 'traditional-dance-video-classification/img' to './img': Directory not empty\n",
            "mv: cannot move 'traditional-dance-video-classification/lib' to './lib': Directory not empty\n",
            "mv: cannot move 'traditional-dance-video-classification/misc' to './misc': Directory not empty\n",
            "mv: cannot move 'traditional-dance-video-classification/notebooks' to './notebooks': Directory not empty\n",
            "removed 'traditional-dance-video-classification/history/.gitignore'\n",
            "removed directory 'traditional-dance-video-classification/history'\n",
            "removed 'traditional-dance-video-classification/misc/video-frame-converter.ipynb'\n",
            "removed 'traditional-dance-video-classification/misc/dataset-reader.ipynb'\n",
            "removed directory 'traditional-dance-video-classification/misc'\n",
            "removed 'traditional-dance-video-classification/.git/config'\n",
            "removed 'traditional-dance-video-classification/.git/description'\n",
            "removed 'traditional-dance-video-classification/.git/HEAD'\n",
            "removed 'traditional-dance-video-classification/.git/refs/heads/main'\n",
            "removed directory 'traditional-dance-video-classification/.git/refs/heads'\n",
            "removed 'traditional-dance-video-classification/.git/refs/remotes/origin/HEAD'\n",
            "removed directory 'traditional-dance-video-classification/.git/refs/remotes/origin'\n",
            "removed directory 'traditional-dance-video-classification/.git/refs/remotes'\n",
            "removed directory 'traditional-dance-video-classification/.git/refs/tags'\n",
            "removed directory 'traditional-dance-video-classification/.git/refs'\n",
            "removed 'traditional-dance-video-classification/.git/index'\n",
            "removed 'traditional-dance-video-classification/.git/hooks/pre-rebase.sample'\n",
            "removed 'traditional-dance-video-classification/.git/hooks/pre-applypatch.sample'\n",
            "removed 'traditional-dance-video-classification/.git/hooks/update.sample'\n",
            "removed 'traditional-dance-video-classification/.git/hooks/pre-receive.sample'\n",
            "removed 'traditional-dance-video-classification/.git/hooks/applypatch-msg.sample'\n",
            "removed 'traditional-dance-video-classification/.git/hooks/pre-push.sample'\n",
            "removed 'traditional-dance-video-classification/.git/hooks/post-update.sample'\n",
            "removed 'traditional-dance-video-classification/.git/hooks/commit-msg.sample'\n",
            "removed 'traditional-dance-video-classification/.git/hooks/pre-merge-commit.sample'\n",
            "removed 'traditional-dance-video-classification/.git/hooks/prepare-commit-msg.sample'\n",
            "removed 'traditional-dance-video-classification/.git/hooks/pre-commit.sample'\n",
            "removed 'traditional-dance-video-classification/.git/hooks/fsmonitor-watchman.sample'\n",
            "removed 'traditional-dance-video-classification/.git/hooks/push-to-checkout.sample'\n",
            "removed directory 'traditional-dance-video-classification/.git/hooks'\n",
            "removed 'traditional-dance-video-classification/.git/logs/HEAD'\n",
            "removed 'traditional-dance-video-classification/.git/logs/refs/heads/main'\n",
            "removed directory 'traditional-dance-video-classification/.git/logs/refs/heads'\n",
            "removed 'traditional-dance-video-classification/.git/logs/refs/remotes/origin/HEAD'\n",
            "removed directory 'traditional-dance-video-classification/.git/logs/refs/remotes/origin'\n",
            "removed directory 'traditional-dance-video-classification/.git/logs/refs/remotes'\n",
            "removed directory 'traditional-dance-video-classification/.git/logs/refs'\n",
            "removed directory 'traditional-dance-video-classification/.git/logs'\n",
            "removed 'traditional-dance-video-classification/.git/info/exclude'\n",
            "removed directory 'traditional-dance-video-classification/.git/info'\n",
            "removed 'traditional-dance-video-classification/.git/objects/pack/pack-58bc6ebc68e77538e0ac7592351df372f062395e.pack'\n",
            "removed 'traditional-dance-video-classification/.git/objects/pack/pack-58bc6ebc68e77538e0ac7592351df372f062395e.idx'\n",
            "removed directory 'traditional-dance-video-classification/.git/objects/pack'\n",
            "removed directory 'traditional-dance-video-classification/.git/objects/info'\n",
            "removed directory 'traditional-dance-video-classification/.git/objects'\n",
            "removed directory 'traditional-dance-video-classification/.git/branches'\n",
            "removed 'traditional-dance-video-classification/.git/packed-refs'\n",
            "removed directory 'traditional-dance-video-classification/.git'\n",
            "removed 'traditional-dance-video-classification/img/example-left-2.png'\n",
            "removed 'traditional-dance-video-classification/img/example-front-2.png'\n",
            "removed 'traditional-dance-video-classification/img/example-front-1.png'\n",
            "removed 'traditional-dance-video-classification/img/Thumbs.db'\n",
            "removed 'traditional-dance-video-classification/img/example-left-1.png'\n",
            "removed 'traditional-dance-video-classification/img/example-right-1.png'\n",
            "removed 'traditional-dance-video-classification/img/example-right-2.png'\n",
            "removed directory 'traditional-dance-video-classification/img'\n",
            "removed 'traditional-dance-video-classification/lib/helpers.py'\n",
            "removed 'traditional-dance-video-classification/lib/i3d_inception/__init__.py'\n",
            "removed 'traditional-dance-video-classification/lib/i3d_inception/main.py'\n",
            "removed directory 'traditional-dance-video-classification/lib/i3d_inception'\n",
            "removed 'traditional-dance-video-classification/lib/keras_video/generator.py'\n",
            "removed 'traditional-dance-video-classification/lib/keras_video/utils.py'\n",
            "removed 'traditional-dance-video-classification/lib/keras_video/__init__.py'\n",
            "removed 'traditional-dance-video-classification/lib/keras_video/flow.py'\n",
            "removed 'traditional-dance-video-classification/lib/keras_video/sliding.py'\n",
            "removed directory 'traditional-dance-video-classification/lib/keras_video'\n",
            "removed directory 'traditional-dance-video-classification/lib'\n",
            "removed 'traditional-dance-video-classification/.gitignore'\n",
            "removed 'traditional-dance-video-classification/notebooks/tari_i3d.ipynb'\n",
            "removed 'traditional-dance-video-classification/notebooks/tari_vgg16_lstm_224.ipynb'\n",
            "removed 'traditional-dance-video-classification/notebooks/i3d_inception.py'\n",
            "removed 'traditional-dance-video-classification/notebooks/tari_vgg16_lstm.ipynb'\n",
            "removed directory 'traditional-dance-video-classification/notebooks'\n",
            "removed 'traditional-dance-video-classification/checkpoint/.gitignore'\n",
            "removed directory 'traditional-dance-video-classification/checkpoint'\n",
            "removed 'traditional-dance-video-classification/dataset/.gitignore'\n",
            "removed directory 'traditional-dance-video-classification/dataset'\n",
            "removed directory 'traditional-dance-video-classification'\n"
          ]
        }
      ],
      "source": [
        "!git clone https://github.com/rudyhendrawn/traditional-dance-video-classification.git\n",
        "!mv traditional-dance-video-classification/* .\n",
        "!rm -rfv traditional-dance-video-classification"
      ]
    },
    {
      "cell_type": "markdown",
      "id": "3f43fec4",
      "metadata": {
        "id": "3f43fec4"
      },
      "source": [
        "### Mounting Google Drive\n",
        "\n",
        "Google drive need to be setup and mounted to this specific project. Using this code below to setup and mount the google drive."
      ]
    },
    {
      "cell_type": "code",
      "execution_count": 12,
      "id": "b841342a",
      "metadata": {
        "colab": {
          "base_uri": "https://localhost:8080/"
        },
        "id": "b841342a",
        "outputId": "0e6d4171-e985-4757-9c62-b4a86c36bb37"
      },
      "outputs": [
        {
          "output_type": "stream",
          "name": "stdout",
          "text": [
            "Drive already mounted at /content/drive; to attempt to forcibly remount, call drive.mount(\"/content/drive\", force_remount=True).\n"
          ]
        }
      ],
      "source": [
        "from google.colab import drive\n",
        "drive.mount('/content/drive')"
      ]
    },
    {
      "cell_type": "markdown",
      "id": "1bd7c8a6-0342-409d-b89d-717a94561372",
      "metadata": {
        "id": "1bd7c8a6-0342-409d-b89d-717a94561372"
      },
      "source": [
        "### Initial Setup 🧑‍💻\n",
        "\n",
        "Setup the project, import the required dependencies\n",
        "\n",
        "> Make sure the `lib` directory exists and include: `keras_video`, `i3d_inception.py`"
      ]
    },
    {
      "cell_type": "code",
      "execution_count": 1,
      "id": "e7a88157-8cfc-4345-b025-f86c70862501",
      "metadata": {
        "execution": {
          "iopub.execute_input": "2022-07-25T16:42:02.915397Z",
          "iopub.status.busy": "2022-07-25T16:42:02.914857Z",
          "iopub.status.idle": "2022-07-25T16:42:02.928720Z",
          "shell.execute_reply": "2022-07-25T16:42:02.926977Z",
          "shell.execute_reply.started": "2022-07-25T16:42:02.915356Z"
        },
        "id": "e7a88157-8cfc-4345-b025-f86c70862501"
      },
      "outputs": [],
      "source": [
        "import os\n",
        "import time\n",
        "import warnings\n",
        "import numpy as np\n",
        "import pandas as pd\n",
        "import seaborn as sns\n",
        "import tensorflow as tf\n",
        "import matplotlib.pyplot as plt\n",
        "\n",
        "import lib.helpers as helpers\n",
        "\n",
        "from lib.keras_video import VideoFrameGenerator\n",
        "from lib.i3d_inception import Inception_Inflated3d\n",
        "\n",
        "from sklearn.metrics import confusion_matrix, classification_report, roc_curve, auc\n",
        "from IPython import get_ipython\n",
        "\n",
        "get_ipython().run_line_magic(\"matplotlib\", \"inline\")\n",
        "warnings.filterwarnings(\"ignore\")"
      ]
    },
    {
      "cell_type": "code",
      "execution_count": 14,
      "id": "e0a9ce4c-5493-4810-a5d6-1fa48e3c2eaf",
      "metadata": {
        "execution": {
          "iopub.execute_input": "2022-07-25T16:04:20.487129Z",
          "iopub.status.busy": "2022-07-25T16:04:20.486515Z",
          "iopub.status.idle": "2022-07-25T16:04:20.493018Z",
          "shell.execute_reply": "2022-07-25T16:04:20.491404Z",
          "shell.execute_reply.started": "2022-07-25T16:04:20.487100Z"
        },
        "id": "e0a9ce4c-5493-4810-a5d6-1fa48e3c2eaf"
      },
      "outputs": [],
      "source": [
        "DS = os.path.sep\n",
        "DATASET_PATH = '/content/drive/MyDrive/Colab Notebooks/datasets/Tari-Bali' # Change with the correct path to your dataset\n",
        "\n",
        "# importing the zipfile module\n",
        "from zipfile import ZipFile\n",
        "\n",
        "# loading the temp.zip and creating a zip object\n",
        "with ZipFile(os.path.join(DATASET_PATH, 'Dasar-Gerakan-Tari-Bali-All-Men.zip'), 'r') as zObject:\n",
        "    # Extracting all the members of the zip\n",
        "    # into a specific location.\n",
        "    zObject.extractall(path=os.path.join('/content'))\n",
        "\n"
      ]
    },
    {
      "cell_type": "markdown",
      "id": "ce2e99ea-c85f-452f-a430-760f7ddc1cd8",
      "metadata": {
        "id": "ce2e99ea-c85f-452f-a430-760f7ddc1cd8"
      },
      "source": [
        "### Generating Class Names & Glob Pattern\n",
        "\n",
        "Load all the file paths at the DATASET_DIR to generate the class names. Also, define glob pattern to get the dataset"
      ]
    },
    {
      "cell_type": "code",
      "execution_count": 3,
      "id": "557993b1-841f-4e8f-9c9c-3401d778e7ac",
      "metadata": {
        "execution": {
          "iopub.execute_input": "2022-07-25T16:04:22.904196Z",
          "iopub.status.busy": "2022-07-25T16:04:22.903859Z",
          "iopub.status.idle": "2022-07-25T16:04:22.910444Z",
          "shell.execute_reply": "2022-07-25T16:04:22.909092Z",
          "shell.execute_reply.started": "2022-07-25T16:04:22.904170Z"
        },
        "id": "557993b1-841f-4e8f-9c9c-3401d778e7ac",
        "colab": {
          "base_uri": "https://localhost:8080/"
        },
        "outputId": "b5208ead-0b41-4bb1-eb43-df11fc97b2d8"
      },
      "outputs": [
        {
          "output_type": "stream",
          "name": "stdout",
          "text": [
            "['Agem_Kanan', 'Agem_Kiri', 'Gandang_Gandang', 'Malpal', 'Nayog', 'Nepuk_Kampuh', 'Oyod', 'Piles', 'Seledet', 'Tapak_Sirang_Pada', 'Ulap_Ulap']\n"
          ]
        }
      ],
      "source": [
        "# Read the video from specified path\n",
        "DATASET_DIR = os.path.join('/content/Dasar-Gerakan-Tari-Bali-All-Men')\n",
        "\n",
        "class_names = helpers.get_generated_class_names(DATASET_DIR, \"train\")\n",
        "print(class_names)\n",
        "train_glob_pattern = helpers.get_generated_glob_pattern(DATASET_DIR, \"train\")\n",
        "test_glob_pattern = helpers.get_generated_glob_pattern(DATASET_DIR, \"test\");\n",
        "val_glob_pattern = helpers.get_generated_glob_pattern(DATASET_DIR, \"val\");"
      ]
    },
    {
      "cell_type": "markdown",
      "id": "0138dc52-4ea5-4e85-a317-fe9c26d6b529",
      "metadata": {
        "id": "0138dc52-4ea5-4e85-a317-fe9c26d6b529"
      },
      "source": [
        "### Dataset Setup\n",
        "\n",
        "Setup the dataset with `keras_video.VideoFrameGenerator` to do the dataset extraction"
      ]
    },
    {
      "cell_type": "code",
      "execution_count": 4,
      "id": "514ec69c-b8dd-4941-9b39-29d1d1d34b89",
      "metadata": {
        "execution": {
          "iopub.execute_input": "2022-07-25T16:04:26.901087Z",
          "iopub.status.busy": "2022-07-25T16:04:26.900666Z",
          "iopub.status.idle": "2022-07-25T16:04:26.918167Z",
          "shell.execute_reply": "2022-07-25T16:04:26.915995Z",
          "shell.execute_reply.started": "2022-07-25T16:04:26.901048Z"
        },
        "id": "514ec69c-b8dd-4941-9b39-29d1d1d34b89",
        "colab": {
          "base_uri": "https://localhost:8080/"
        },
        "outputId": "4108765b-9d48-4086-a8ea-6e44e7f7cca8"
      },
      "outputs": [
        {
          "output_type": "stream",
          "name": "stdout",
          "text": [
            "Total data: 11 classes for 531 files for train\n"
          ]
        }
      ],
      "source": [
        "BATCH_SIZE = 8\n",
        "NB_COLOR_CHANNELS = 3\n",
        "NB_FRAMES = 30\n",
        "RESOLUTION = (224, 224)\n",
        "\n",
        "train_dataset_generator = VideoFrameGenerator(\n",
        "    batch_size=BATCH_SIZE,\n",
        "    classes=class_names,\n",
        "    glob_pattern=train_glob_pattern,\n",
        "    nb_channel=NB_COLOR_CHANNELS,\n",
        "    nb_frames=NB_FRAMES,\n",
        "    seed=42,\n",
        "    target_shape=RESOLUTION,\n",
        "    transformation=None,\n",
        "    use_frame_cache=False\n",
        ")"
      ]
    },
    {
      "cell_type": "code",
      "execution_count": 5,
      "id": "bb4fd813",
      "metadata": {
        "id": "bb4fd813",
        "colab": {
          "base_uri": "https://localhost:8080/"
        },
        "outputId": "6e8bbdc3-d875-4ad8-dc1d-10dc1d31b076"
      },
      "outputs": [
        {
          "output_type": "stream",
          "name": "stdout",
          "text": [
            "Total data: 11 classes for 165 files for train\n"
          ]
        }
      ],
      "source": [
        "test_dataset_generator = VideoFrameGenerator(\n",
        "    batch_size=BATCH_SIZE,\n",
        "    classes=class_names,\n",
        "    glob_pattern=test_glob_pattern,\n",
        "    nb_channel=NB_COLOR_CHANNELS,\n",
        "    nb_frames=NB_FRAMES,\n",
        "    seed=42,\n",
        "    target_shape=RESOLUTION,\n",
        "    transformation=None,\n",
        "    use_frame_cache=False\n",
        ")"
      ]
    },
    {
      "cell_type": "code",
      "execution_count": 6,
      "id": "e9eabb8b",
      "metadata": {
        "id": "e9eabb8b",
        "colab": {
          "base_uri": "https://localhost:8080/"
        },
        "outputId": "87ba26eb-fb0e-4a20-d946-6dc6b92b0982"
      },
      "outputs": [
        {
          "output_type": "stream",
          "name": "stdout",
          "text": [
            "Total data: 11 classes for 132 files for train\n"
          ]
        }
      ],
      "source": [
        "val_dataset_generator = VideoFrameGenerator(\n",
        "    batch_size=BATCH_SIZE,\n",
        "    classes=class_names,\n",
        "    glob_pattern=val_glob_pattern,\n",
        "    nb_channel=NB_COLOR_CHANNELS,\n",
        "    nb_frames=NB_FRAMES,\n",
        "    seed=42,\n",
        "    target_shape=RESOLUTION,\n",
        "    transformation=None,\n",
        "    use_frame_cache=False\n",
        ")"
      ]
    },
    {
      "cell_type": "code",
      "source": [
        "for x, y in train_dataset_generator:\n",
        "    print(f\"Data shape in data generator {x.shape}\")\n",
        "    break\n",
        "\n",
        "for x, y in val_dataset_generator:\n",
        "    print(f\"Data shape in data generator {x.shape}\")\n",
        "    break\n",
        "\n",
        "for x, y in test_dataset_generator:\n",
        "    print(f\"Data shape in data generator {x.shape}\")\n",
        "    break"
      ],
      "metadata": {
        "id": "9CipAiqIu7Ot",
        "colab": {
          "base_uri": "https://localhost:8080/"
        },
        "outputId": "8bee35ac-afa8-4d93-eab1-7af1f60e97a7"
      },
      "id": "9CipAiqIu7Ot",
      "execution_count": 7,
      "outputs": [
        {
          "output_type": "stream",
          "name": "stdout",
          "text": [
            "Data shape in data generator (8, 30, 224, 224, 3)\n",
            "Data shape in data generator (8, 30, 224, 224, 3)\n",
            "Data shape in data generator (8, 30, 224, 224, 3)\n"
          ]
        }
      ]
    },
    {
      "cell_type": "code",
      "execution_count": 8,
      "id": "3a3a7b36",
      "metadata": {
        "id": "3a3a7b36",
        "colab": {
          "base_uri": "https://localhost:8080/"
        },
        "outputId": "a1d3f6f7-efda-446b-e5be-5e1263934cb2"
      },
      "outputs": [
        {
          "output_type": "stream",
          "name": "stdout",
          "text": [
            "(30, 224, 224, 3)\n"
          ]
        }
      ],
      "source": [
        "input_shape = (NB_FRAMES,) + RESOLUTION + (NB_COLOR_CHANNELS,)\n",
        "print(input_shape)"
      ]
    },
    {
      "cell_type": "markdown",
      "id": "0f4555eb-20c8-475c-94e3-20539a364bfa",
      "metadata": {
        "id": "0f4555eb-20c8-475c-94e3-20539a364bfa"
      },
      "source": [
        "### Prepare `i3d` Layer\n",
        "\n",
        "Preparing the configuration to create the `i3d` layer to add to the created model"
      ]
    },
    {
      "cell_type": "code",
      "execution_count": 9,
      "id": "74bd9216-641b-41b4-829f-10d8a14060e0",
      "metadata": {
        "execution": {
          "iopub.execute_input": "2022-07-25T16:04:32.073646Z",
          "iopub.status.busy": "2022-07-25T16:04:32.073178Z",
          "iopub.status.idle": "2022-07-25T16:04:35.135165Z",
          "shell.execute_reply": "2022-07-25T16:04:35.133988Z",
          "shell.execute_reply.started": "2022-07-25T16:04:32.073602Z"
        },
        "id": "74bd9216-641b-41b4-829f-10d8a14060e0"
      },
      "outputs": [],
      "source": [
        "i3d_layer = Inception_Inflated3d(\n",
        "    classes=3,\n",
        "    include_top=False,\n",
        "    input_shape=input_shape,\n",
        "    weights=\"rgb_kinetics_only\"\n",
        ")\n",
        "\n",
        "i3d_layer.trainable = False"
      ]
    },
    {
      "cell_type": "markdown",
      "id": "11cd363f-ac76-4ce1-a56a-4e46a8ac9ab4",
      "metadata": {
        "id": "11cd363f-ac76-4ce1-a56a-4e46a8ac9ab4"
      },
      "source": [
        "### Model Creation\n",
        "\n",
        "Creating `Sequential` model and add `i3d` and some other layers to the created model"
      ]
    },
    {
      "cell_type": "code",
      "execution_count": 10,
      "id": "8f80d370-8f03-4c41-a24f-e1a95a6413c7",
      "metadata": {
        "execution": {
          "iopub.execute_input": "2022-07-25T16:04:39.065422Z",
          "iopub.status.busy": "2022-07-25T16:04:39.064911Z",
          "iopub.status.idle": "2022-07-25T16:04:39.674862Z",
          "shell.execute_reply": "2022-07-25T16:04:39.673428Z",
          "shell.execute_reply.started": "2022-07-25T16:04:39.065391Z"
        },
        "jupyter": {
          "outputs_hidden": true
        },
        "colab": {
          "base_uri": "https://localhost:8080/"
        },
        "id": "8f80d370-8f03-4c41-a24f-e1a95a6413c7",
        "outputId": "41d7fcd2-c5cc-45bb-eb06-f80d70797bae"
      },
      "outputs": [
        {
          "output_type": "stream",
          "name": "stdout",
          "text": [
            "Model: \"sequential\"\n",
            "_________________________________________________________________\n",
            " Layer (type)                Output Shape              Param #   \n",
            "=================================================================\n",
            " i3d_inception (Functional)  (None, 3, 1, 1, 1024)     12294544  \n",
            "                                                                 \n",
            " global_average_pooling3d (G  (None, 1024)             0         \n",
            " lobalAveragePooling3D)                                          \n",
            "                                                                 \n",
            " dense (Dense)               (None, 512)               524800    \n",
            "                                                                 \n",
            " dropout (Dropout)           (None, 512)               0         \n",
            "                                                                 \n",
            " dense_1 (Dense)             (None, 11)                5643      \n",
            "                                                                 \n",
            "=================================================================\n",
            "Total params: 12,824,987\n",
            "Trainable params: 530,443\n",
            "Non-trainable params: 12,294,544\n",
            "_________________________________________________________________\n"
          ]
        }
      ],
      "source": [
        "model = tf.keras.models.Sequential()\n",
        "\n",
        "# classification layer\n",
        "model.add(i3d_layer)\n",
        "model.add(tf.keras.layers.GlobalAveragePooling3D())\n",
        "model.add(tf.keras.layers.Dense(512, activation='relu'))\n",
        "model.add(tf.keras.layers.Dropout(0.5))\n",
        "model.add(tf.keras.layers.Dense(int(len(class_names)), activation='softmax'))\n",
        "\n",
        "model.summary()"
      ]
    },
    {
      "cell_type": "markdown",
      "id": "6dcc6aee-aa61-4805-8b5a-65f76a78a707",
      "metadata": {
        "id": "6dcc6aee-aa61-4805-8b5a-65f76a78a707"
      },
      "source": [
        "### Compiling & Fitting Setup\n",
        "\n",
        "Some setup configuration for compiling and fitting the model. Defining epochs, earlystopping, checkpoint, and callbacks."
      ]
    },
    {
      "cell_type": "code",
      "execution_count": 11,
      "id": "6f6b887f-126c-479e-849a-3d3669cfe8f7",
      "metadata": {
        "execution": {
          "iopub.execute_input": "2022-07-25T16:04:55.745142Z",
          "iopub.status.busy": "2022-07-25T16:04:55.744633Z",
          "iopub.status.idle": "2022-07-25T16:04:55.753861Z",
          "shell.execute_reply": "2022-07-25T16:04:55.751542Z",
          "shell.execute_reply.started": "2022-07-25T16:04:55.745099Z"
        },
        "id": "6f6b887f-126c-479e-849a-3d3669cfe8f7"
      },
      "outputs": [],
      "source": [
        "epochs = 100\n",
        "model_earlystopping = tf.keras.callbacks.EarlyStopping(monitor=\"val_loss\", patience=3)\n",
        "model_checkpoint = tf.keras.callbacks.ModelCheckpoint(\n",
        "    filepath=\"checkpoint/i3d-{epoch:02d}-{val_loss:.2f}.h5\",\n",
        "    mode=\"min\",\n",
        "    monitor=\"val_loss\",\n",
        "    save_best_only=True,\n",
        "    verbose=1\n",
        ")\n",
        "\n",
        "model_callbacks = [model_earlystopping, model_checkpoint]"
      ]
    },
    {
      "cell_type": "markdown",
      "id": "adafba19-c904-4376-9f27-79d85cf5460e",
      "metadata": {
        "id": "adafba19-c904-4376-9f27-79d85cf5460e"
      },
      "source": [
        "### Model Compile\n",
        "\n",
        "Compiling model with pre-defined configuration"
      ]
    },
    {
      "cell_type": "code",
      "execution_count": 12,
      "id": "c1f1a83a-b643-41fb-9e7d-be2c518b514c",
      "metadata": {
        "execution": {
          "iopub.execute_input": "2022-07-25T16:04:59.144203Z",
          "iopub.status.busy": "2022-07-25T16:04:59.143709Z",
          "iopub.status.idle": "2022-07-25T16:04:59.168565Z",
          "shell.execute_reply": "2022-07-25T16:04:59.166968Z",
          "shell.execute_reply.started": "2022-07-25T16:04:59.144178Z"
        },
        "id": "c1f1a83a-b643-41fb-9e7d-be2c518b514c"
      },
      "outputs": [],
      "source": [
        "model.compile(\n",
        "    loss=\"categorical_crossentropy\",\n",
        "    metrics=[\"acc\"],\n",
        "    optimizer=\"adam\"\n",
        ")"
      ]
    },
    {
      "cell_type": "markdown",
      "id": "a34c8472-3564-4429-84d4-48ab13632755",
      "metadata": {
        "id": "a34c8472-3564-4429-84d4-48ab13632755"
      },
      "source": [
        "### Model Training/Fitting\n",
        "\n",
        "Fit the model with real dataset with defined epochs and callbacks"
      ]
    },
    {
      "cell_type": "code",
      "execution_count": 13,
      "id": "b9cb3ff0-b811-4032-bf25-332ac5d03e2c",
      "metadata": {
        "collapsed": true,
        "execution": {
          "iopub.execute_input": "2022-07-25T16:05:04.707915Z",
          "iopub.status.busy": "2022-07-25T16:05:04.707476Z",
          "iopub.status.idle": "2022-07-25T16:09:57.723320Z",
          "shell.execute_reply": "2022-07-25T16:09:57.721357Z",
          "shell.execute_reply.started": "2022-07-25T16:05:04.707887Z"
        },
        "jupyter": {
          "outputs_hidden": true
        },
        "colab": {
          "base_uri": "https://localhost:8080/"
        },
        "id": "b9cb3ff0-b811-4032-bf25-332ac5d03e2c",
        "outputId": "1b60381e-aa91-4920-e93e-a443a96b89af"
      },
      "outputs": [
        {
          "output_type": "stream",
          "name": "stdout",
          "text": [
            "Epoch 1/100\n",
            "66/66 [==============================] - ETA: 0s - loss: 2.4503 - acc: 0.1496\n",
            "Epoch 1: val_loss improved from inf to 2.19143, saving model to checkpoint/i3d-01-2.19.h5\n",
            "66/66 [==============================] - 174s 3s/step - loss: 2.4503 - acc: 0.1496 - val_loss: 2.1914 - val_acc: 0.1875\n",
            "Epoch 2/100\n",
            "66/66 [==============================] - ETA: 0s - loss: 2.1866 - acc: 0.2178\n",
            "Epoch 2: val_loss improved from 2.19143 to 2.08360, saving model to checkpoint/i3d-02-2.08.h5\n",
            "66/66 [==============================] - 164s 2s/step - loss: 2.1866 - acc: 0.2178 - val_loss: 2.0836 - val_acc: 0.2578\n",
            "Epoch 3/100\n",
            "66/66 [==============================] - ETA: 0s - loss: 2.0543 - acc: 0.2727\n",
            "Epoch 3: val_loss improved from 2.08360 to 2.01723, saving model to checkpoint/i3d-03-2.02.h5\n",
            "66/66 [==============================] - 165s 3s/step - loss: 2.0543 - acc: 0.2727 - val_loss: 2.0172 - val_acc: 0.2656\n",
            "Epoch 4/100\n",
            "66/66 [==============================] - ETA: 0s - loss: 2.0371 - acc: 0.2424\n",
            "Epoch 4: val_loss improved from 2.01723 to 1.97907, saving model to checkpoint/i3d-04-1.98.h5\n",
            "66/66 [==============================] - 164s 2s/step - loss: 2.0371 - acc: 0.2424 - val_loss: 1.9791 - val_acc: 0.2578\n",
            "Epoch 5/100\n",
            "66/66 [==============================] - ETA: 0s - loss: 1.9440 - acc: 0.2879\n",
            "Epoch 5: val_loss improved from 1.97907 to 1.92581, saving model to checkpoint/i3d-05-1.93.h5\n",
            "66/66 [==============================] - 164s 2s/step - loss: 1.9440 - acc: 0.2879 - val_loss: 1.9258 - val_acc: 0.3125\n",
            "Epoch 6/100\n",
            "66/66 [==============================] - ETA: 0s - loss: 1.8818 - acc: 0.3409\n",
            "Epoch 6: val_loss improved from 1.92581 to 1.87790, saving model to checkpoint/i3d-06-1.88.h5\n",
            "66/66 [==============================] - 164s 2s/step - loss: 1.8818 - acc: 0.3409 - val_loss: 1.8779 - val_acc: 0.3281\n",
            "Epoch 7/100\n",
            "66/66 [==============================] - ETA: 0s - loss: 1.8294 - acc: 0.3182\n",
            "Epoch 7: val_loss improved from 1.87790 to 1.85204, saving model to checkpoint/i3d-07-1.85.h5\n",
            "66/66 [==============================] - 164s 2s/step - loss: 1.8294 - acc: 0.3182 - val_loss: 1.8520 - val_acc: 0.3125\n",
            "Epoch 8/100\n",
            "66/66 [==============================] - ETA: 0s - loss: 1.7852 - acc: 0.3542\n",
            "Epoch 8: val_loss improved from 1.85204 to 1.82653, saving model to checkpoint/i3d-08-1.83.h5\n",
            "66/66 [==============================] - 165s 3s/step - loss: 1.7852 - acc: 0.3542 - val_loss: 1.8265 - val_acc: 0.3594\n",
            "Epoch 9/100\n",
            "66/66 [==============================] - ETA: 0s - loss: 1.7372 - acc: 0.3996\n",
            "Epoch 9: val_loss improved from 1.82653 to 1.82556, saving model to checkpoint/i3d-09-1.83.h5\n",
            "66/66 [==============================] - 166s 3s/step - loss: 1.7372 - acc: 0.3996 - val_loss: 1.8256 - val_acc: 0.3594\n",
            "Epoch 10/100\n",
            "66/66 [==============================] - ETA: 0s - loss: 1.7188 - acc: 0.3807\n",
            "Epoch 10: val_loss did not improve from 1.82556\n",
            "66/66 [==============================] - 165s 3s/step - loss: 1.7188 - acc: 0.3807 - val_loss: 1.8333 - val_acc: 0.2969\n",
            "Epoch 11/100\n",
            "66/66 [==============================] - ETA: 0s - loss: 1.6587 - acc: 0.4223\n",
            "Epoch 11: val_loss improved from 1.82556 to 1.71699, saving model to checkpoint/i3d-11-1.72.h5\n",
            "66/66 [==============================] - 165s 3s/step - loss: 1.6587 - acc: 0.4223 - val_loss: 1.7170 - val_acc: 0.4141\n",
            "Epoch 12/100\n",
            "66/66 [==============================] - ETA: 0s - loss: 1.6464 - acc: 0.3996\n",
            "Epoch 12: val_loss did not improve from 1.71699\n",
            "66/66 [==============================] - 165s 3s/step - loss: 1.6464 - acc: 0.3996 - val_loss: 1.7242 - val_acc: 0.3984\n",
            "Epoch 13/100\n",
            "66/66 [==============================] - ETA: 0s - loss: 1.6039 - acc: 0.4716\n",
            "Epoch 13: val_loss improved from 1.71699 to 1.70625, saving model to checkpoint/i3d-13-1.71.h5\n",
            "66/66 [==============================] - 165s 3s/step - loss: 1.6039 - acc: 0.4716 - val_loss: 1.7062 - val_acc: 0.3438\n",
            "Epoch 14/100\n",
            "66/66 [==============================] - ETA: 0s - loss: 1.5474 - acc: 0.4508\n",
            "Epoch 14: val_loss improved from 1.70625 to 1.66155, saving model to checkpoint/i3d-14-1.66.h5\n",
            "66/66 [==============================] - 165s 3s/step - loss: 1.5474 - acc: 0.4508 - val_loss: 1.6616 - val_acc: 0.4062\n",
            "Epoch 15/100\n",
            "66/66 [==============================] - ETA: 0s - loss: 1.5483 - acc: 0.4508\n",
            "Epoch 15: val_loss did not improve from 1.66155\n",
            "66/66 [==============================] - 163s 2s/step - loss: 1.5483 - acc: 0.4508 - val_loss: 1.6633 - val_acc: 0.4375\n",
            "Epoch 16/100\n",
            "66/66 [==============================] - ETA: 0s - loss: 1.5130 - acc: 0.5095\n",
            "Epoch 16: val_loss did not improve from 1.66155\n",
            "66/66 [==============================] - 162s 2s/step - loss: 1.5130 - acc: 0.5095 - val_loss: 1.6659 - val_acc: 0.3984\n",
            "Epoch 17/100\n",
            "66/66 [==============================] - ETA: 0s - loss: 1.4656 - acc: 0.5038\n",
            "Epoch 17: val_loss improved from 1.66155 to 1.65009, saving model to checkpoint/i3d-17-1.65.h5\n",
            "66/66 [==============================] - 162s 2s/step - loss: 1.4656 - acc: 0.5038 - val_loss: 1.6501 - val_acc: 0.4375\n",
            "Epoch 18/100\n",
            "66/66 [==============================] - ETA: 0s - loss: 1.4213 - acc: 0.5189\n",
            "Epoch 18: val_loss improved from 1.65009 to 1.59056, saving model to checkpoint/i3d-18-1.59.h5\n",
            "66/66 [==============================] - 164s 2s/step - loss: 1.4213 - acc: 0.5189 - val_loss: 1.5906 - val_acc: 0.4219\n",
            "Epoch 19/100\n",
            "66/66 [==============================] - ETA: 0s - loss: 1.3811 - acc: 0.5057\n",
            "Epoch 19: val_loss improved from 1.59056 to 1.57086, saving model to checkpoint/i3d-19-1.57.h5\n",
            "66/66 [==============================] - 167s 3s/step - loss: 1.3811 - acc: 0.5057 - val_loss: 1.5709 - val_acc: 0.4766\n",
            "Epoch 20/100\n",
            "66/66 [==============================] - ETA: 0s - loss: 1.3704 - acc: 0.5189\n",
            "Epoch 20: val_loss improved from 1.57086 to 1.53635, saving model to checkpoint/i3d-20-1.54.h5\n",
            "66/66 [==============================] - 165s 3s/step - loss: 1.3704 - acc: 0.5189 - val_loss: 1.5364 - val_acc: 0.4375\n",
            "Epoch 21/100\n",
            "66/66 [==============================] - ETA: 0s - loss: 1.3275 - acc: 0.5341\n",
            "Epoch 21: val_loss improved from 1.53635 to 1.50966, saving model to checkpoint/i3d-21-1.51.h5\n",
            "66/66 [==============================] - 163s 2s/step - loss: 1.3275 - acc: 0.5341 - val_loss: 1.5097 - val_acc: 0.4688\n",
            "Epoch 22/100\n",
            "66/66 [==============================] - ETA: 0s - loss: 1.2643 - acc: 0.5852\n",
            "Epoch 22: val_loss did not improve from 1.50966\n",
            "66/66 [==============================] - 162s 2s/step - loss: 1.2643 - acc: 0.5852 - val_loss: 1.5136 - val_acc: 0.4453\n",
            "Epoch 23/100\n",
            "66/66 [==============================] - ETA: 0s - loss: 1.3186 - acc: 0.5568\n",
            "Epoch 23: val_loss improved from 1.50966 to 1.49238, saving model to checkpoint/i3d-23-1.49.h5\n",
            "66/66 [==============================] - 163s 2s/step - loss: 1.3186 - acc: 0.5568 - val_loss: 1.4924 - val_acc: 0.4531\n",
            "Epoch 24/100\n",
            "66/66 [==============================] - ETA: 0s - loss: 1.2417 - acc: 0.5852\n",
            "Epoch 24: val_loss did not improve from 1.49238\n",
            "66/66 [==============================] - 162s 2s/step - loss: 1.2417 - acc: 0.5852 - val_loss: 1.5668 - val_acc: 0.4141\n",
            "Epoch 25/100\n",
            "66/66 [==============================] - ETA: 0s - loss: 1.2537 - acc: 0.5492\n",
            "Epoch 25: val_loss improved from 1.49238 to 1.49039, saving model to checkpoint/i3d-25-1.49.h5\n",
            "66/66 [==============================] - 161s 2s/step - loss: 1.2537 - acc: 0.5492 - val_loss: 1.4904 - val_acc: 0.4688\n",
            "Epoch 26/100\n",
            "66/66 [==============================] - ETA: 0s - loss: 1.2168 - acc: 0.5682\n",
            "Epoch 26: val_loss improved from 1.49039 to 1.47784, saving model to checkpoint/i3d-26-1.48.h5\n",
            "66/66 [==============================] - 163s 2s/step - loss: 1.2168 - acc: 0.5682 - val_loss: 1.4778 - val_acc: 0.4531\n",
            "Epoch 27/100\n",
            "66/66 [==============================] - ETA: 0s - loss: 1.1992 - acc: 0.6004\n",
            "Epoch 27: val_loss did not improve from 1.47784\n",
            "66/66 [==============================] - 161s 2s/step - loss: 1.1992 - acc: 0.6004 - val_loss: 1.5200 - val_acc: 0.4297\n",
            "Epoch 28/100\n",
            "66/66 [==============================] - ETA: 0s - loss: 1.1207 - acc: 0.5985\n",
            "Epoch 28: val_loss improved from 1.47784 to 1.41349, saving model to checkpoint/i3d-28-1.41.h5\n",
            "66/66 [==============================] - 163s 2s/step - loss: 1.1207 - acc: 0.5985 - val_loss: 1.4135 - val_acc: 0.4531\n",
            "Epoch 29/100\n",
            "66/66 [==============================] - ETA: 0s - loss: 1.0836 - acc: 0.6534\n",
            "Epoch 29: val_loss did not improve from 1.41349\n",
            "66/66 [==============================] - 162s 2s/step - loss: 1.0836 - acc: 0.6534 - val_loss: 1.4624 - val_acc: 0.4922\n",
            "Epoch 30/100\n",
            "66/66 [==============================] - ETA: 0s - loss: 1.0742 - acc: 0.6458\n",
            "Epoch 30: val_loss did not improve from 1.41349\n",
            "66/66 [==============================] - 161s 2s/step - loss: 1.0742 - acc: 0.6458 - val_loss: 1.4182 - val_acc: 0.4922\n",
            "Epoch 31/100\n",
            "66/66 [==============================] - ETA: 0s - loss: 1.0683 - acc: 0.6288\n",
            "Epoch 31: val_loss improved from 1.41349 to 1.41143, saving model to checkpoint/i3d-31-1.41.h5\n",
            "66/66 [==============================] - 162s 2s/step - loss: 1.0683 - acc: 0.6288 - val_loss: 1.4114 - val_acc: 0.4375\n",
            "Epoch 32/100\n",
            "66/66 [==============================] - ETA: 0s - loss: 1.0463 - acc: 0.6799\n",
            "Epoch 32: val_loss improved from 1.41143 to 1.35267, saving model to checkpoint/i3d-32-1.35.h5\n",
            "66/66 [==============================] - 164s 2s/step - loss: 1.0463 - acc: 0.6799 - val_loss: 1.3527 - val_acc: 0.5312\n",
            "Epoch 33/100\n",
            "66/66 [==============================] - ETA: 0s - loss: 1.0078 - acc: 0.6383\n",
            "Epoch 33: val_loss did not improve from 1.35267\n",
            "66/66 [==============================] - 164s 2s/step - loss: 1.0078 - acc: 0.6383 - val_loss: 1.3576 - val_acc: 0.4766\n",
            "Epoch 34/100\n",
            "66/66 [==============================] - ETA: 0s - loss: 0.9943 - acc: 0.6705\n",
            "Epoch 34: val_loss improved from 1.35267 to 1.31119, saving model to checkpoint/i3d-34-1.31.h5\n",
            "66/66 [==============================] - 164s 2s/step - loss: 0.9943 - acc: 0.6705 - val_loss: 1.3112 - val_acc: 0.5156\n",
            "Epoch 35/100\n",
            "66/66 [==============================] - ETA: 0s - loss: 0.9829 - acc: 0.6572\n",
            "Epoch 35: val_loss did not improve from 1.31119\n",
            "66/66 [==============================] - 162s 2s/step - loss: 0.9829 - acc: 0.6572 - val_loss: 1.3762 - val_acc: 0.5312\n",
            "Epoch 36/100\n",
            "66/66 [==============================] - ETA: 0s - loss: 0.9418 - acc: 0.6780\n",
            "Epoch 36: val_loss did not improve from 1.31119\n",
            "66/66 [==============================] - 164s 2s/step - loss: 0.9418 - acc: 0.6780 - val_loss: 1.3127 - val_acc: 0.5078\n",
            "Epoch 37/100\n",
            "66/66 [==============================] - ETA: 0s - loss: 0.9049 - acc: 0.6856\n",
            "Epoch 37: val_loss did not improve from 1.31119\n",
            "66/66 [==============================] - 166s 3s/step - loss: 0.9049 - acc: 0.6856 - val_loss: 1.3893 - val_acc: 0.4609\n",
            "Fitting execution time : 6066.452540636063s\n"
          ]
        }
      ],
      "source": [
        "tf.keras.backend.clear_session()\n",
        "\n",
        "start_time = time.time()\n",
        "\n",
        "model_history = model.fit(\n",
        "    train_dataset_generator,\n",
        "    callbacks=model_callbacks,\n",
        "    epochs=epochs,\n",
        "    validation_data=val_dataset_generator\n",
        ")\n",
        "\n",
        "end_time = time.time()\n",
        "exec_time = end_time - start_time\n",
        "\n",
        "print(\"Fitting execution time : {}s\".format(exec_time))"
      ]
    },
    {
      "cell_type": "markdown",
      "id": "7e9d822e-33b9-4429-8169-56ceb8ce7dbd",
      "metadata": {
        "id": "7e9d822e-33b9-4429-8169-56ceb8ce7dbd"
      },
      "source": [
        "### Save Model\n",
        "\n",
        "Saving model file into `model` directory"
      ]
    },
    {
      "cell_type": "code",
      "execution_count": 14,
      "id": "7bb765ef-5c9b-4368-b17f-633083db5dec",
      "metadata": {
        "execution": {
          "iopub.execute_input": "2022-07-25T16:11:54.464547Z",
          "iopub.status.busy": "2022-07-25T16:11:54.464192Z",
          "iopub.status.idle": "2022-07-25T16:11:55.305480Z",
          "shell.execute_reply": "2022-07-25T16:11:55.304298Z",
          "shell.execute_reply.started": "2022-07-25T16:11:54.464520Z"
        },
        "id": "7bb765ef-5c9b-4368-b17f-633083db5dec"
      },
      "outputs": [],
      "source": [
        "model.save(\"model/dance/i3d-5e.h5\")"
      ]
    },
    {
      "cell_type": "markdown",
      "id": "39addeb6-7efe-43c6-b38b-fc0b8f23e865",
      "metadata": {
        "id": "39addeb6-7efe-43c6-b38b-fc0b8f23e865"
      },
      "source": [
        "### Acc Visualization\n",
        "\n",
        "Visualizing acc data with Matplotlib graph"
      ]
    },
    {
      "cell_type": "code",
      "execution_count": 15,
      "id": "c2a6760a-3feb-4380-9f68-917e786ccb5d",
      "metadata": {
        "execution": {
          "iopub.execute_input": "2022-07-25T16:14:03.616288Z",
          "iopub.status.busy": "2022-07-25T16:14:03.615660Z",
          "iopub.status.idle": "2022-07-25T16:14:03.858974Z",
          "shell.execute_reply": "2022-07-25T16:14:03.857863Z",
          "shell.execute_reply.started": "2022-07-25T16:14:03.616226Z"
        },
        "id": "c2a6760a-3feb-4380-9f68-917e786ccb5d",
        "colab": {
          "base_uri": "https://localhost:8080/",
          "height": 472
        },
        "outputId": "cf10c349-8ecc-4cca-e184-0e6683b1e1ff"
      },
      "outputs": [
        {
          "output_type": "display_data",
          "data": {
            "text/plain": [
              "<Figure size 640x480 with 1 Axes>"
            ],
            "image/png": "[encoded data removed]"
          },
          "metadata": {}
        }
      ],
      "source": [
        "helpers.get_visualized_graph(\n",
        "  plots=[model_history.history[\"acc\"], model_history.history[\"val_acc\"]],\n",
        "  title=\"Model Accuracy\",\n",
        "  x_label=\"Epoch\",\n",
        "  y_label=\"Accuracy\",\n",
        "  legend=[\"Training\", \"Validation\"]\n",
        ").show()"
      ]
    },
    {
      "cell_type": "markdown",
      "id": "641f828d-52a6-4be1-bf9a-81dddfac9cd1",
      "metadata": {
        "id": "641f828d-52a6-4be1-bf9a-81dddfac9cd1"
      },
      "source": [
        "### Loss Visualization\n",
        "\n",
        "Visualizing loss data with Matplotlib graph"
      ]
    },
    {
      "cell_type": "code",
      "execution_count": 16,
      "id": "d602ed61-58b0-44a8-b781-b5db0c04f5e7",
      "metadata": {
        "execution": {
          "iopub.execute_input": "2022-07-25T16:16:04.228008Z",
          "iopub.status.busy": "2022-07-25T16:16:04.227507Z",
          "iopub.status.idle": "2022-07-25T16:16:04.444393Z",
          "shell.execute_reply": "2022-07-25T16:16:04.442975Z",
          "shell.execute_reply.started": "2022-07-25T16:16:04.227962Z"
        },
        "id": "d602ed61-58b0-44a8-b781-b5db0c04f5e7",
        "colab": {
          "base_uri": "https://localhost:8080/",
          "height": 472
        },
        "outputId": "142ffa66-cb1b-49c6-f9b0-1ec72de9349d"
      },
      "outputs": [
        {
          "output_type": "display_data",
          "data": {
            "text/plain": [
              "<Figure size 640x480 with 1 Axes>"
            ],
            "image/png": "[encoded data removed]"
          },
          "metadata": {}
        }
      ],
      "source": [
        "helpers.get_visualized_graph(\n",
        "  plots=[model_history.history[\"loss\"], model_history.history[\"val_loss\"]],\n",
        "  title=\"Model Loss\",\n",
        "  x_label=\"Epoch\",\n",
        "  y_label=\"Loss\",\n",
        "  legend=[\"Training\", \"Validation\"]\n",
        ").show()"
      ]
    },
    {
      "cell_type": "markdown",
      "id": "482d50ed-f966-42f9-a407-3fe05d6a1455",
      "metadata": {
        "id": "482d50ed-f966-42f9-a407-3fe05d6a1455"
      },
      "source": [
        "### Export Dataframe From Model\n",
        "\n",
        "Export dataframe to `.csv` file from the model history via Pandas library"
      ]
    },
    {
      "cell_type": "code",
      "execution_count": 17,
      "id": "f293766d-342f-402d-b949-de7108a2cabd",
      "metadata": {
        "execution": {
          "iopub.execute_input": "2022-07-25T16:19:39.293201Z",
          "iopub.status.busy": "2022-07-25T16:19:39.292738Z",
          "iopub.status.idle": "2022-07-25T16:19:39.311552Z",
          "shell.execute_reply": "2022-07-25T16:19:39.310234Z",
          "shell.execute_reply.started": "2022-07-25T16:19:39.293173Z"
        },
        "id": "f293766d-342f-402d-b949-de7108a2cabd"
      },
      "outputs": [],
      "source": [
        "model_history_dataframe = pd.DataFrame(model_history.history)\n",
        "model_history_dataframe.to_csv(os.path.join(\"model/dance\", \"i3d-25e.csv\"))"
      ]
    },
    {
      "cell_type": "markdown",
      "id": "b6842666-03a7-44db-b30a-d21b5983510e",
      "metadata": {
        "id": "b6842666-03a7-44db-b30a-d21b5983510e"
      },
      "source": [
        "### Model Evaluation\n",
        "\n",
        "Evaluating model with test dataset"
      ]
    },
    {
      "cell_type": "code",
      "execution_count": 18,
      "id": "d769e89a-dd06-428a-8632-ad95adc55111",
      "metadata": {
        "execution": {
          "iopub.execute_input": "2022-07-25T16:20:25.650916Z",
          "iopub.status.busy": "2022-07-25T16:20:25.650350Z",
          "iopub.status.idle": "2022-07-25T16:20:36.319566Z",
          "shell.execute_reply": "2022-07-25T16:20:36.318725Z",
          "shell.execute_reply.started": "2022-07-25T16:20:25.650863Z"
        },
        "id": "d769e89a-dd06-428a-8632-ad95adc55111",
        "colab": {
          "base_uri": "https://localhost:8080/"
        },
        "outputId": "51b50739-e7fb-4fe5-bf15-04fbaf877fc4"
      },
      "outputs": [
        {
          "output_type": "stream",
          "name": "stdout",
          "text": [
            "20/20 [==============================] - 40s 2s/step - loss: 1.5772 - acc: 0.4375\n"
          ]
        },
        {
          "output_type": "execute_result",
          "data": {
            "text/plain": [
              "[1.5772069692611694, 0.4375]"
            ]
          },
          "metadata": {},
          "execution_count": 18
        }
      ],
      "source": [
        "model.evaluate(test_dataset_generator)"
      ]
    },
    {
      "cell_type": "markdown",
      "id": "2e85e757-d57d-4dbd-8945-593c3e72b615",
      "metadata": {
        "id": "2e85e757-d57d-4dbd-8945-593c3e72b615"
      },
      "source": [
        "### Populate Y Data\n",
        "\n",
        "Populating Y's `prediction` and `test` data with test dataset"
      ]
    },
    {
      "cell_type": "code",
      "execution_count": 19,
      "id": "7fd9ea56-712e-4aa6-9df6-e45e2a4aa672",
      "metadata": {
        "collapsed": true,
        "execution": {
          "iopub.execute_input": "2022-07-25T16:23:42.063471Z",
          "iopub.status.busy": "2022-07-25T16:23:42.062191Z",
          "iopub.status.idle": "2022-07-25T16:24:04.327613Z",
          "shell.execute_reply": "2022-07-25T16:24:04.326316Z",
          "shell.execute_reply.started": "2022-07-25T16:23:42.063442Z"
        },
        "jupyter": {
          "outputs_hidden": true
        },
        "id": "7fd9ea56-712e-4aa6-9df6-e45e2a4aa672",
        "colab": {
          "base_uri": "https://localhost:8080/"
        },
        "outputId": "6cd902a9-8340-4816-c432-0e60fca6713c"
      },
      "outputs": [
        {
          "output_type": "stream",
          "name": "stdout",
          "text": [
            "1/1 [==============================] - 1s 1s/step\n",
            "1/1 [==============================] - 0s 161ms/step\n",
            "1/1 [==============================] - 0s 154ms/step\n",
            "1/1 [==============================] - 0s 166ms/step\n",
            "1/1 [==============================] - 0s 154ms/step\n",
            "1/1 [==============================] - 0s 153ms/step\n",
            "1/1 [==============================] - 0s 157ms/step\n",
            "1/1 [==============================] - 0s 153ms/step\n",
            "1/1 [==============================] - 0s 152ms/step\n",
            "1/1 [==============================] - 0s 154ms/step\n",
            "1/1 [==============================] - 0s 153ms/step\n",
            "1/1 [==============================] - 0s 152ms/step\n",
            "1/1 [==============================] - 0s 157ms/step\n",
            "1/1 [==============================] - 0s 153ms/step\n",
            "1/1 [==============================] - 0s 153ms/step\n",
            "1/1 [==============================] - 0s 153ms/step\n",
            "1/1 [==============================] - 0s 152ms/step\n",
            "1/1 [==============================] - 0s 160ms/step\n",
            "1/1 [==============================] - 0s 151ms/step\n",
            "1/1 [==============================] - 0s 152ms/step\n"
          ]
        }
      ],
      "source": [
        "y_prediction_max, y_true = helpers.get_populated_y_data(\n",
        "    batch_size=BATCH_SIZE,\n",
        "    generator=test_dataset_generator,\n",
        "    model=model\n",
        ")"
      ]
    },
    {
      "cell_type": "markdown",
      "id": "883998d3-0340-4b76-8cfe-30681ead035c",
      "metadata": {
        "id": "883998d3-0340-4b76-8cfe-30681ead035c"
      },
      "source": [
        "### Score Visualization\n",
        "\n",
        "Visualizing some of calculated model score types, like `accuracy`, `precision`, `recall`, and `f1` score"
      ]
    },
    {
      "cell_type": "code",
      "execution_count": 20,
      "id": "e1b3af71-d7ab-43fd-9e30-dfeb520496a8",
      "metadata": {
        "execution": {
          "iopub.execute_input": "2022-07-25T16:32:34.810618Z",
          "iopub.status.busy": "2022-07-25T16:32:34.810167Z",
          "iopub.status.idle": "2022-07-25T16:32:34.825602Z",
          "shell.execute_reply": "2022-07-25T16:32:34.824524Z",
          "shell.execute_reply.started": "2022-07-25T16:32:34.810589Z"
        },
        "id": "e1b3af71-d7ab-43fd-9e30-dfeb520496a8",
        "colab": {
          "base_uri": "https://localhost:8080/"
        },
        "outputId": "7a29d552-af94-484a-b590-6750ac64e88f"
      },
      "outputs": [
        {
          "output_type": "stream",
          "name": "stdout",
          "text": [
            "Accuracy Score\t: 0.431\n",
            "Precision Score\t: 0.572\n",
            "Recall Score\t: 0.426\n",
            "F1 Score\t: 0.406\n"
          ]
        }
      ],
      "source": [
        "score_accuracy, score_precision, score_recall, score_f1 = helpers.get_calculated_score(y_true, y_prediction_max)\n",
        "\n",
        "print(f\"Accuracy Score\\t: {np.round(score_accuracy, 3)}\")\n",
        "print(f\"Precision Score\\t: {np.round(score_precision, 3)}\")\n",
        "print(f\"Recall Score\\t: {np.round(score_recall, 3)}\")\n",
        "print(f\"F1 Score\\t: {np.round(score_f1, 3)}\")"
      ]
    },
    {
      "cell_type": "markdown",
      "id": "5fa689bf-dea3-4a90-a241-bfda48c409a6",
      "metadata": {
        "id": "5fa689bf-dea3-4a90-a241-bfda48c409a6"
      },
      "source": [
        "### Classification Report Visualization\n",
        "\n",
        "Visualizing classification report of test dataset"
      ]
    },
    {
      "cell_type": "code",
      "execution_count": 21,
      "id": "d74073ca-1213-46b5-aa55-5ff9b6050762",
      "metadata": {
        "execution": {
          "iopub.execute_input": "2022-07-25T16:34:10.058994Z",
          "iopub.status.busy": "2022-07-25T16:34:10.058550Z",
          "iopub.status.idle": "2022-07-25T16:34:10.075212Z",
          "shell.execute_reply": "2022-07-25T16:34:10.073843Z",
          "shell.execute_reply.started": "2022-07-25T16:34:10.058966Z"
        },
        "id": "d74073ca-1213-46b5-aa55-5ff9b6050762",
        "colab": {
          "base_uri": "https://localhost:8080/"
        },
        "outputId": "ae464b03-5992-413b-a4a0-4f582bb273c5"
      },
      "outputs": [
        {
          "output_type": "stream",
          "name": "stdout",
          "text": [
            "                   precision    recall  f1-score   support\n",
            "\n",
            "       Agem_Kanan       0.27      0.50      0.35        14\n",
            "        Agem_Kiri       0.18      0.46      0.26        13\n",
            "  Gandang_Gandang       1.00      0.06      0.12        16\n",
            "           Malpal       0.57      0.53      0.55        15\n",
            "            Nayog       0.15      0.15      0.15        13\n",
            "     Nepuk_Kampuh       0.38      0.56      0.45        16\n",
            "             Oyod       1.00      0.17      0.29        12\n",
            "            Piles       0.67      0.13      0.22        15\n",
            "          Seledet       1.00      1.00      1.00        16\n",
            "Tapak_Sirang_Pada       0.71      0.86      0.77        14\n",
            "        Ulap_Ulap       0.36      0.25      0.30        16\n",
            "\n",
            "         accuracy                           0.43       160\n",
            "        macro avg       0.57      0.43      0.41       160\n",
            "     weighted avg       0.58      0.43      0.41       160\n",
            "\n"
          ]
        }
      ],
      "source": [
        "test_class_names = test_dataset_generator.classes\n",
        "\n",
        "print(classification_report(\n",
        "    y_true,\n",
        "    y_prediction_max,\n",
        "    target_names=test_class_names\n",
        "))"
      ]
    },
    {
      "cell_type": "markdown",
      "id": "88c52bbb-ea6e-47b9-b32a-27458e5792b0",
      "metadata": {
        "id": "88c52bbb-ea6e-47b9-b32a-27458e5792b0"
      },
      "source": [
        "### Confusion Matrix Visualization\n",
        "\n",
        "Visualizing confusion matrix with heatmap table"
      ]
    },
    {
      "cell_type": "code",
      "execution_count": 22,
      "id": "e6933551-5212-4480-9adb-20ba8965ea68",
      "metadata": {
        "execution": {
          "iopub.execute_input": "2022-07-25T16:36:30.051192Z",
          "iopub.status.busy": "2022-07-25T16:36:30.050712Z",
          "iopub.status.idle": "2022-07-25T16:36:30.288844Z",
          "shell.execute_reply": "2022-07-25T16:36:30.287387Z",
          "shell.execute_reply.started": "2022-07-25T16:36:30.051155Z"
        },
        "id": "e6933551-5212-4480-9adb-20ba8965ea68",
        "colab": {
          "base_uri": "https://localhost:8080/",
          "height": 452
        },
        "outputId": "d148dee8-73e5-44fa-9c57-6681bd144a9c"
      },
      "outputs": [
        {
          "output_type": "execute_result",
          "data": {
            "text/plain": [
              "<Axes: >"
            ]
          },
          "metadata": {},
          "execution_count": 22
        },
        {
          "output_type": "display_data",
          "data": {
            "text/plain": [
              "<Figure size 640x480 with 2 Axes>"
            ],
            "image/png": "[encoded data removed]"
          },
          "metadata": {}
        }
      ],
      "source": [
        "confusion_matrix_result = confusion_matrix(y_true, y_prediction_max)\n",
        "\n",
        "sns.heatmap(\n",
        "    confusion_matrix_result,\n",
        "    annot=True,\n",
        "    cmap=\"Blues\"\n",
        ")"
      ]
    },
    {
      "cell_type": "markdown",
      "id": "e3cc50ab-f69f-4ba5-b1af-375c95a56c9a",
      "metadata": {
        "id": "e3cc50ab-f69f-4ba5-b1af-375c95a56c9a"
      },
      "source": [
        "### AUC Score Visualization\n",
        "\n",
        "Visualization of AUC score calculated with FPR and TPR"
      ]
    },
    {
      "cell_type": "code",
      "execution_count": 23,
      "id": "f3af434f-88f2-4edc-8f06-3701ef724c92",
      "metadata": {
        "execution": {
          "iopub.execute_input": "2022-07-25T16:42:07.324427Z",
          "iopub.status.busy": "2022-07-25T16:42:07.323141Z",
          "iopub.status.idle": "2022-07-25T16:42:07.333830Z",
          "shell.execute_reply": "2022-07-25T16:42:07.332238Z",
          "shell.execute_reply.started": "2022-07-25T16:42:07.324398Z"
        },
        "id": "f3af434f-88f2-4edc-8f06-3701ef724c92",
        "colab": {
          "base_uri": "https://localhost:8080/"
        },
        "outputId": "29d78294-fc41-45e2-ecf8-c1284dae06a2"
      },
      "outputs": [
        {
          "output_type": "stream",
          "name": "stdout",
          "text": [
            "AUC Score\t: 0.582\n"
          ]
        }
      ],
      "source": [
        "fpr, tpr, _ = roc_curve(y_true, y_prediction_max, pos_label=6)\n",
        "score_auc = auc(fpr, tpr)\n",
        "\n",
        "print(f\"AUC Score\\t: {np.round(score_auc, 3)}\")"
      ]
    },
    {
      "cell_type": "markdown",
      "id": "67e6fb24-3c5c-4a63-92dd-125159d877db",
      "metadata": {
        "id": "67e6fb24-3c5c-4a63-92dd-125159d877db"
      },
      "source": [
        "### True/False Positive Rate Visualization\n",
        "\n",
        "Visualizing `true`/`false` rate with Matplotlib graph calculated from FPR and TPR"
      ]
    },
    {
      "cell_type": "code",
      "execution_count": 24,
      "id": "380dd9ed-0ff2-4d41-9eba-c690760bbac7",
      "metadata": {
        "execution": {
          "iopub.execute_input": "2022-07-25T16:44:26.564209Z",
          "iopub.status.busy": "2022-07-25T16:44:26.563801Z",
          "iopub.status.idle": "2022-07-25T16:44:26.717569Z",
          "shell.execute_reply": "2022-07-25T16:44:26.716189Z",
          "shell.execute_reply.started": "2022-07-25T16:44:26.564181Z"
        },
        "id": "380dd9ed-0ff2-4d41-9eba-c690760bbac7",
        "colab": {
          "base_uri": "https://localhost:8080/",
          "height": 449
        },
        "outputId": "0dafec3a-3a6f-406a-fb04-58d0c1330cb0"
      },
      "outputs": [
        {
          "output_type": "display_data",
          "data": {
            "text/plain": [
              "<Figure size 640x480 with 1 Axes>"
            ],
            "image/png": "[encoded data removed]"
          },
          "metadata": {}
        }
      ],
      "source": [
        "plt.plot(fpr, tpr, marker=\".\")\n",
        "plt.plot([0, 1], [0, 1], color=\"navy\", linestyle=\"--\")\n",
        "\n",
        "plt.xlabel(\"False Positive Rate\")\n",
        "plt.ylabel(\"True Positive Rate\")\n",
        "\n",
        "plt.show()"
      ]
    },
    {
      "cell_type": "markdown",
      "id": "ccc9006e-33e9-4690-8563-cbe7bb4402d6",
      "metadata": {
        "id": "ccc9006e-33e9-4690-8563-cbe7bb4402d6"
      },
      "source": [
        "### Visualizing Checkpoint Model\n",
        "\n",
        "Visualizing all the score/calculated score from the checkpoint model"
      ]
    },
    {
      "cell_type": "code",
      "execution_count": 25,
      "id": "f7048aed-08d2-403a-b9ee-7d8cbfc7fd6f",
      "metadata": {
        "execution": {
          "iopub.execute_input": "2022-07-25T17:03:00.315146Z",
          "iopub.status.busy": "2022-07-25T17:03:00.314759Z",
          "iopub.status.idle": "2022-07-25T17:03:14.232305Z",
          "shell.execute_reply": "2022-07-25T17:03:14.230697Z",
          "shell.execute_reply.started": "2022-07-25T17:03:00.315119Z"
        },
        "id": "f7048aed-08d2-403a-b9ee-7d8cbfc7fd6f"
      },
      "outputs": [],
      "source": [
        "# from tensorflow.keras.models import load_model\n",
        "\n",
        "# checkpoint_model = load_model(\"checkpoint/i3d.h5\")\n",
        "# checkpoint_model.evaluate(test_dataset_generator)"
      ]
    },
    {
      "cell_type": "markdown",
      "id": "f4feea24-7170-43ba-8225-c8b58b654453",
      "metadata": {
        "id": "f4feea24-7170-43ba-8225-c8b58b654453"
      },
      "source": [
        "### Populate Y Data\n",
        "\n",
        "Populating checkpoint model Y's `prediction` and `test` data with test dataset"
      ]
    },
    {
      "cell_type": "code",
      "execution_count": 26,
      "id": "344e94b8-84fb-479a-b317-0dfb05c822cb",
      "metadata": {
        "collapsed": true,
        "execution": {
          "iopub.execute_input": "2022-07-25T17:04:21.347485Z",
          "iopub.status.busy": "2022-07-25T17:04:21.346243Z",
          "iopub.status.idle": "2022-07-25T17:04:43.023798Z",
          "shell.execute_reply": "2022-07-25T17:04:43.022571Z",
          "shell.execute_reply.started": "2022-07-25T17:04:21.347454Z"
        },
        "jupyter": {
          "outputs_hidden": true
        },
        "id": "344e94b8-84fb-479a-b317-0dfb05c822cb",
        "colab": {
          "base_uri": "https://localhost:8080/"
        },
        "outputId": "ebaa8a64-99fc-4ad1-8d2c-a2ecd0b89397"
      },
      "outputs": [
        {
          "output_type": "stream",
          "name": "stdout",
          "text": [
            "1/1 [==============================] - 0s 154ms/step\n",
            "1/1 [==============================] - 0s 153ms/step\n",
            "1/1 [==============================] - 0s 162ms/step\n",
            "1/1 [==============================] - 0s 152ms/step\n",
            "1/1 [==============================] - 0s 153ms/step\n",
            "1/1 [==============================] - 0s 153ms/step\n",
            "1/1 [==============================] - 0s 153ms/step\n",
            "1/1 [==============================] - 0s 154ms/step\n",
            "1/1 [==============================] - 0s 155ms/step\n",
            "1/1 [==============================] - 0s 151ms/step\n",
            "1/1 [==============================] - 0s 152ms/step\n",
            "1/1 [==============================] - 0s 151ms/step\n",
            "1/1 [==============================] - 0s 150ms/step\n",
            "1/1 [==============================] - 0s 156ms/step\n",
            "1/1 [==============================] - 0s 153ms/step\n",
            "1/1 [==============================] - 0s 154ms/step\n",
            "1/1 [==============================] - 0s 156ms/step\n",
            "1/1 [==============================] - 0s 156ms/step\n",
            "1/1 [==============================] - 0s 151ms/step\n",
            "1/1 [==============================] - 0s 155ms/step\n"
          ]
        }
      ],
      "source": [
        "y_prediction_max, y_true = helpers.get_populated_y_data(\n",
        "    batch_size=BATCH_SIZE,\n",
        "    generator=test_dataset_generator,\n",
        "    model=model\n",
        ")"
      ]
    },
    {
      "cell_type": "markdown",
      "id": "4d143f10-70a6-43e6-8fae-941be3a3e9ca",
      "metadata": {
        "id": "4d143f10-70a6-43e6-8fae-941be3a3e9ca"
      },
      "source": [
        "### Score Visualization\n",
        "\n",
        "Visualizing some of calculated checkpoint model score types, like `accuracy`, `precision`, `recall`, and `f1` score"
      ]
    },
    {
      "cell_type": "code",
      "execution_count": 27,
      "id": "e04816e7-15b5-4517-b2fe-2a40b130160d",
      "metadata": {
        "execution": {
          "iopub.execute_input": "2022-07-25T17:05:27.821439Z",
          "iopub.status.busy": "2022-07-25T17:05:27.820933Z",
          "iopub.status.idle": "2022-07-25T17:05:27.840382Z",
          "shell.execute_reply": "2022-07-25T17:05:27.839165Z",
          "shell.execute_reply.started": "2022-07-25T17:05:27.821396Z"
        },
        "id": "e04816e7-15b5-4517-b2fe-2a40b130160d",
        "colab": {
          "base_uri": "https://localhost:8080/"
        },
        "outputId": "1ef6c713-bde0-41b1-95e5-c13c7f0dd2c7"
      },
      "outputs": [
        {
          "output_type": "stream",
          "name": "stdout",
          "text": [
            "Accuracy Score\t: 0.438\n",
            "Precision Score\t: 0.583\n",
            "Recall Score\t: 0.438\n",
            "F1 Score\t: 0.422\n"
          ]
        }
      ],
      "source": [
        "score_accuracy, score_precision, score_recall, score_f1 = helpers.get_calculated_score(y_true, y_prediction_max)\n",
        "\n",
        "print(f\"Accuracy Score\\t: {np.round(score_accuracy, 3)}\")\n",
        "print(f\"Precision Score\\t: {np.round(score_precision, 3)}\")\n",
        "print(f\"Recall Score\\t: {np.round(score_recall, 3)}\")\n",
        "print(f\"F1 Score\\t: {np.round(score_f1, 3)}\")"
      ]
    },
    {
      "cell_type": "markdown",
      "id": "0da6f90d-1d19-4539-a05f-2de57dd9fd29",
      "metadata": {
        "id": "0da6f90d-1d19-4539-a05f-2de57dd9fd29"
      },
      "source": [
        "### Classification Report Visualization\n",
        "\n",
        "Visualizing checkpoint model classification report of test dataset"
      ]
    },
    {
      "cell_type": "code",
      "execution_count": 28,
      "id": "2e1229da-8e7a-4e57-8d64-2c600a9db03c",
      "metadata": {
        "execution": {
          "iopub.execute_input": "2022-07-25T17:06:30.463125Z",
          "iopub.status.busy": "2022-07-25T17:06:30.461724Z",
          "iopub.status.idle": "2022-07-25T17:06:30.477437Z",
          "shell.execute_reply": "2022-07-25T17:06:30.475890Z",
          "shell.execute_reply.started": "2022-07-25T17:06:30.463020Z"
        },
        "id": "2e1229da-8e7a-4e57-8d64-2c600a9db03c",
        "colab": {
          "base_uri": "https://localhost:8080/"
        },
        "outputId": "a67b4bbc-66f5-4fec-c727-85be3468c152"
      },
      "outputs": [
        {
          "output_type": "stream",
          "name": "stdout",
          "text": [
            "                   precision    recall  f1-score   support\n",
            "\n",
            "       Agem_Kanan       0.35      0.47      0.40        17\n",
            "        Agem_Kiri       0.21      0.53      0.30        15\n",
            "  Gandang_Gandang       1.00      0.08      0.14        13\n",
            "           Malpal       0.64      0.54      0.58        13\n",
            "            Nayog       0.22      0.27      0.24        15\n",
            "     Nepuk_Kampuh       0.36      0.64      0.46        14\n",
            "             Oyod       1.00      0.13      0.24        15\n",
            "            Piles       0.50      0.12      0.20        16\n",
            "          Seledet       1.00      1.00      1.00        14\n",
            "Tapak_Sirang_Pada       0.80      0.80      0.80        15\n",
            "        Ulap_Ulap       0.33      0.23      0.27        13\n",
            "\n",
            "         accuracy                           0.44       160\n",
            "        macro avg       0.58      0.44      0.42       160\n",
            "     weighted avg       0.58      0.44      0.42       160\n",
            "\n"
          ]
        }
      ],
      "source": [
        "test_class_names = test_dataset_generator.classes\n",
        "\n",
        "print(classification_report(\n",
        "    y_true,\n",
        "    y_prediction_max,\n",
        "    target_names=test_class_names\n",
        "))"
      ]
    },
    {
      "cell_type": "markdown",
      "id": "2ef84fa1-9e1a-40af-bd73-e5eab70e8f72",
      "metadata": {
        "id": "2ef84fa1-9e1a-40af-bd73-e5eab70e8f72"
      },
      "source": [
        "### Confusion Matrix Visualization\n",
        "\n",
        "Visualizing checkpoint model confusion matrix with heatmap table"
      ]
    },
    {
      "cell_type": "code",
      "execution_count": 29,
      "id": "4a388bd6-5bd9-43e6-8e5e-a2e6b273fb5b",
      "metadata": {
        "execution": {
          "iopub.execute_input": "2022-07-25T17:08:11.189079Z",
          "iopub.status.busy": "2022-07-25T17:08:11.188646Z",
          "iopub.status.idle": "2022-07-25T17:08:11.451053Z",
          "shell.execute_reply": "2022-07-25T17:08:11.450105Z",
          "shell.execute_reply.started": "2022-07-25T17:08:11.189050Z"
        },
        "id": "4a388bd6-5bd9-43e6-8e5e-a2e6b273fb5b",
        "colab": {
          "base_uri": "https://localhost:8080/",
          "height": 452
        },
        "outputId": "2d7c4082-879e-4295-bae6-b7ce9c5f7461"
      },
      "outputs": [
        {
          "output_type": "execute_result",
          "data": {
            "text/plain": [
              "<Axes: >"
            ]
          },
          "metadata": {},
          "execution_count": 29
        },
        {
          "output_type": "display_data",
          "data": {
            "text/plain": [
              "<Figure size 640x480 with 2 Axes>"
            ],
            "image/png": "[encoded data removed]"
          },
          "metadata": {}
        }
      ],
      "source": [
        "confusion_matrix_result = confusion_matrix(y_true, y_prediction_max)\n",
        "\n",
        "sns.heatmap(\n",
        "    confusion_matrix_result,\n",
        "    annot=True,\n",
        "    cmap=\"Blues\"\n",
        ")"
      ]
    },
    {
      "cell_type": "markdown",
      "id": "231a5d94-09d9-4db2-a676-0ee3d43c0219",
      "metadata": {
        "id": "231a5d94-09d9-4db2-a676-0ee3d43c0219"
      },
      "source": [
        "### AUC Score Visualization\n",
        "\n",
        "Visualization of checkpoint model AUC score calculated with FPR and TPR"
      ]
    },
    {
      "cell_type": "code",
      "execution_count": 30,
      "id": "16b59826-8b3b-47fe-b5b3-ff78387a96f3",
      "metadata": {
        "execution": {
          "iopub.execute_input": "2022-07-25T17:09:41.872413Z",
          "iopub.status.busy": "2022-07-25T17:09:41.872022Z",
          "iopub.status.idle": "2022-07-25T17:09:41.881420Z",
          "shell.execute_reply": "2022-07-25T17:09:41.879771Z",
          "shell.execute_reply.started": "2022-07-25T17:09:41.872386Z"
        },
        "id": "16b59826-8b3b-47fe-b5b3-ff78387a96f3",
        "colab": {
          "base_uri": "https://localhost:8080/"
        },
        "outputId": "ac81b907-8819-411c-de59-fcfb0b2e7198"
      },
      "outputs": [
        {
          "output_type": "stream",
          "name": "stdout",
          "text": [
            "AUC Score\t: 0.566\n"
          ]
        }
      ],
      "source": [
        "fpr, tpr, _ = roc_curve(y_true, y_prediction_max, pos_label=6)\n",
        "score_auc = auc(fpr, tpr)\n",
        "\n",
        "print(f\"AUC Score\\t: {np.round(score_auc, 3)}\")"
      ]
    },
    {
      "cell_type": "markdown",
      "id": "486f4586-8fdb-4557-bf9a-ddc855709e83",
      "metadata": {
        "id": "486f4586-8fdb-4557-bf9a-ddc855709e83"
      },
      "source": [
        "### True/False Positive Rate Visualization\n",
        "\n",
        "Visualizing checkpoint model `true`/`false` rate with Matplotlib graph calculated from FPR and TPR"
      ]
    },
    {
      "cell_type": "code",
      "execution_count": 31,
      "id": "4325b853-4201-4fe5-9259-8bdbbfc85e21",
      "metadata": {
        "execution": {
          "iopub.execute_input": "2022-07-25T17:11:04.016162Z",
          "iopub.status.busy": "2022-07-25T17:11:04.014523Z",
          "iopub.status.idle": "2022-07-25T17:11:04.203854Z",
          "shell.execute_reply": "2022-07-25T17:11:04.202661Z",
          "shell.execute_reply.started": "2022-07-25T17:11:04.016111Z"
        },
        "id": "4325b853-4201-4fe5-9259-8bdbbfc85e21",
        "colab": {
          "base_uri": "https://localhost:8080/",
          "height": 449
        },
        "outputId": "4b7c3302-b654-4d84-a598-9115464dce86"
      },
      "outputs": [
        {
          "output_type": "display_data",
          "data": {
            "text/plain": [
              "<Figure size 640x480 with 1 Axes>"
            ],
            "image/png": "[encoded data removed]"
          },
          "metadata": {}
        }
      ],
      "source": [
        "plt.plot(fpr, tpr, marker=\".\")\n",
        "plt.plot([0, 1], [0, 1], color=\"navy\", linestyle=\"--\")\n",
        "\n",
        "plt.xlabel(\"False Positive Rate\")\n",
        "plt.ylabel(\"True Positive Rate\")\n",
        "\n",
        "plt.show()"
      ]
    }
  ],
  "metadata": {
    "kernelspec": {
      "display_name": "Python 3",
      "name": "python3"
    },
    "language_info": {
      "codemirror_mode": {
        "name": "ipython",
        "version": 3
      },
      "file_extension": ".py",
      "mimetype": "text/x-python",
      "name": "python",
      "nbconvert_exporter": "python",
      "pygments_lexer": "ipython3",
      "version": "3.9.13"
    },
    "colab": {
      "provenance": [],
      "machine_shape": "hm",
      "gpuType": "V100",
      "include_colab_link": true
    },
    "accelerator": "GPU"
  },
  "nbformat": 4,
  "nbformat_minor": 5
}